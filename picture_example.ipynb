{
 "cells": [
  {
   "attachments": {},
   "cell_type": "markdown",
   "metadata": {},
   "source": [
    "## Примеры создания картинок маски"
   ]
  },
  {
   "cell_type": "code",
<<<<<<< HEAD
   "execution_count": 19,
=======
   "execution_count": 2,
>>>>>>> 63a1c4b578230d5d55226483961114aca717cef7
   "metadata": {},
   "outputs": [],
   "source": [
    "import numpy as np\n",
    "import pandas as pd\n",
    "import matplotlib.pyplot as plt\n",
    "import seaborn as sns\n",
    "import random\n",
    "\n",
    "import os\n",
    "from PIL import Image, ImageDraw\n"
   ]
  },
  {
   "attachments": {},
   "cell_type": "markdown",
   "metadata": {},
   "source": [
    "Одномерная решетка:"
   ]
  },
  {
   "cell_type": "code",
   "execution_count": 14,
   "metadata": {},
   "outputs": [],
   "source": [
    "n = 100\n",
    "lines_pic = np.zeros(shape=(n, n))\n",
    "lines_pic[int(n / 2)::] = np.ones(shape=(int(n / 2), n)) * 200\n",
    "\n",
    "im = Image.fromarray(lines_pic)\n",
    "# im.show()\n",
    "# imrgb = im.convert('RGB') # color image\n",
    "# imrgb.show()\n",
    "im = im.convert('L')\n",
    "im.save('lines.png')\n"
   ]
  },
  {
   "attachments": {},
   "cell_type": "markdown",
   "metadata": {},
   "source": [
    "Функция, делающая черно-белую картинку цветной (не сильно нужна, больше для красоты)"
   ]
  },
  {
   "cell_type": "code",
   "execution_count": 15,
   "metadata": {},
   "outputs": [],
   "source": [
    "def grayscale_to_color(image):\n",
    "    # Create a new RGB image with the same size as the grayscale image\n",
    "    color_image = Image.new(\"RGB\", image.size)\n",
    "    width, height = image.size\n",
    "    \n",
    "    # Loop through each pixel in the grayscale image and assign a color value\n",
    "    for x in range(width):\n",
    "        for y in range(height):\n",
    "            pixel_value = image.getpixel((x,y))\n",
    "            # Assign a color based on the pixel value\n",
    "            color = (pixel_value, 0, 255-pixel_value) # blue-purple gradient\n",
    "            color_image.putpixel((x,y), color)\n",
    "    \n",
    "    return color_image"
   ]
  },
  {
   "cell_type": "code",
   "execution_count": 16,
   "metadata": {},
   "outputs": [],
   "source": [
    "color_image = grayscale_to_color(im)\n",
    "color_image.save(\"colored.png\")"
   ]
  },
  {
   "attachments": {},
   "cell_type": "markdown",
   "metadata": {},
   "source": [
    "Круг в центре"
   ]
  },
  {
   "cell_type": "code",
<<<<<<< HEAD
   "execution_count": 17,
=======
   "execution_count": 4,
>>>>>>> 63a1c4b578230d5d55226483961114aca717cef7
   "metadata": {},
   "outputs": [],
   "source": [
    "# Define the size of the image\n",
    "n = 513\n",
    "\n",
    "# Create a new image with a black background\n",
    "image = Image.new(\"L\", (n,n), color=0)\n",
    "\n",
    "# Draw a white circle in the middle of the image\n",
    "draw = ImageDraw.Draw(image)\n",
    "draw.ellipse((n//3, n//3, 2*n//3, 2*n//3), fill=255)\n",
    "\n",
    "# Save the image to disk\n",
    "# image = grayscale_to_color(image)\n",
    "image.save(\"grayscale_circle.png\")\n",
    "# image.save(\"im\" + str(i) + \".png\")\n",
    "# f'im{i}.png'\n"
   ]
  },
  {
   "cell_type": "code",
<<<<<<< HEAD
   "execution_count": 37,
=======
   "execution_count": 5,
>>>>>>> 63a1c4b578230d5d55226483961114aca717cef7
   "metadata": {},
   "outputs": [],
   "source": [
    "# Define the size of the image\n",
    "n = 513\n",
    "\n",
    "# Create a new image with a black background\n",
    "im = Image.new(\"L\", (n,n), color=0)\n",
    "\n",
    "# Draw a white circle in the middle of the image\n",
    "draw = ImageDraw.Draw(im)\n",
    "draw.ellipse((n//3, n//3, 2*n//3, 2*n//3), fill=255)\n",
    "draw.line((0, im.size[1], im.size[0], 0), fill=255)\n",
    "draw.line((random.randrange(-100, 0), random.randrange(-100, 0)) + im.size, fill=255)\n",
    "draw.arc((20, 40, 70, 70), 180, 90, 255)\n",
    "draw.rectangle((200, 100, 300, 200), fill=255 , outline=255)\n",
    "draw.polygon(\n",
    "    xy=(\n",
    "        (200, 200),\n",
    "        (300, 100),\n",
    "        (250, 50),\n",
    "    ), fill=255, outline=255\n",
    ")\n",
    "\n",
    "# Save the image to disk\n",
    "# image = grayscale_to_color(image)\n",
    "im.save(f'image/im{1}.png')\n",
    "#im.save(\"fig.png\")"
   ]
  },
  {
   "cell_type": "code",
   "execution_count": 63,
   "metadata": {},
   "outputs": [],
   "source": [
    "def choise(i):\n",
    "    if i == 1:\n",
    "        draw.rectangle((random.randint(0, 513), random.randint(0, 513), random.randint(0, 513), random.randint(0, 513)), fill=255 , outline=255)\n",
    "\n",
    "    elif i ==2:\n",
    "        draw.line((random.randint(0, 513), random.randint(0, 513), random.randint(0, 513), random.randint(0, 513)), fill=255, width=random.randint(0, 15))\n",
    "\n",
    "    elif i == 3:\n",
    "        draw.arc((random.randint(0, 513), random.randint(0, 513), random.randint(0, 513), random.randint(0, 513)), random.randint(0, 360), random.randint(0, 360), 255)\n",
    "\n",
    "    elif i == 4:\n",
    "        draw.ellipse((n//3, n//3, 2*n//3, 2*n//3), fill=255)\n",
    "\n",
    "    elif i == 5:\n",
    "        r = random.randint(15, 100)\n",
    "        draw.regular_polygon(\n",
    "            bounding_circle = (random.randint(r, 512 - r), random.randint(r, 512 - r), r),\n",
    "            n_sides=random.randint(3, 6),\n",
    "            rotation=random.randint(0, 90),\n",
    "            fill=255,\n",
    "            outline=None\n",
    "        )"
   ]
  },
  {
   "cell_type": "code",
   "execution_count": 64,
   "metadata": {},
   "outputs": [],
   "source": [
    "n = 513\n",
    "\n",
    "for i in range(10):\n",
    "    im = Image.new(\"L\", (n,n), color=0)\n",
    "    draw = ImageDraw.Draw(im)\n",
    "\n",
    "    k = random.randint(1, 10)\n",
    "    for j in range(k):\n",
    "        c = random.randint(1, 5)\n",
    "        choise(c)\n",
    "    \n",
    "    im.save(f'image/im{i+1}.png')\n"
   ]
  },
  {
   "cell_type": "code",
   "execution_count": 71,
   "metadata": {},
   "outputs": [],
   "source": [
    "# Load the image\n",
    "image = Image.open(\"image/im0.png\")\n",
    "\n",
    "# Create a new canvas\n",
    "canvas = Image.new(\"L\", (n,n), color=255)\n",
    "\n",
    "# Draw the image multiple times\n",
    "draw = ImageDraw.Draw(canvas)\n",
    "for i in range(5):\n",
    "    draw.bitmap((i * 200, i * 100), image)\n",
    "\n",
    "# Save the result\n",
    "canvas.save(\"per.jpg\")"
   ]
  }
 ],
 "metadata": {
  "kernelspec": {
   "display_name": "Python 3",
   "language": "python",
   "name": "python3"
  },
  "language_info": {
   "codemirror_mode": {
    "name": "ipython",
    "version": 3
   },
   "file_extension": ".py",
   "mimetype": "text/x-python",
   "name": "python",
   "nbconvert_exporter": "python",
   "pygments_lexer": "ipython3",
   "version": "3.10.9"
  },
  "orig_nbformat": 4
 },
 "nbformat": 4,
 "nbformat_minor": 2
}
