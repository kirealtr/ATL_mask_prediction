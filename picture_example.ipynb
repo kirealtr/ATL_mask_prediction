{
 "cells": [
  {
   "attachments": {},
   "cell_type": "markdown",
   "metadata": {},
   "source": [
    "## Примеры создания картинок маски"
   ]
  },
  {
   "cell_type": "code",
   "execution_count": 1,
   "metadata": {},
   "outputs": [],
   "source": [
    "import numpy as np\n",
    "import pandas as pd\n",
    "import matplotlib.pyplot as plt\n",
    "import seaborn as sns\n",
    "\n",
    "import os\n",
    "from PIL import Image, ImageDraw\n"
   ]
  },
  {
   "attachments": {},
   "cell_type": "markdown",
   "metadata": {},
   "source": [
    "Одномерная решетка:"
   ]
  },
  {
   "cell_type": "code",
   "execution_count": 3,
   "metadata": {},
   "outputs": [],
   "source": [
    "n = 100\n",
    "lines_pic = np.zeros(shape=(n, n))\n",
    "lines_pic[int(n / 2)::] = np.ones(shape=(int(n / 2), n)) * 200\n",
    "\n",
    "im = Image.fromarray(lines_pic)\n",
    "# im.show()\n",
    "# imrgb = im.convert('RGB') # color image\n",
    "# imrgb.show()\n",
    "im = im.convert('L')\n",
    "im.save('lines.png')\n"
   ]
  },
  {
   "attachments": {},
   "cell_type": "markdown",
   "metadata": {},
   "source": [
    "Функция, делающая черно-белую картинку цветной (не сильно нужна, больше для красоты)"
   ]
  },
  {
   "cell_type": "code",
   "execution_count": 32,
   "metadata": {},
   "outputs": [],
   "source": [
    "def grayscale_to_color(image):\n",
    "    # Create a new RGB image with the same size as the grayscale image\n",
    "    color_image = Image.new(\"RGB\", image.size)\n",
    "    width, height = image.size\n",
    "    \n",
    "    # Loop through each pixel in the grayscale image and assign a color value\n",
    "    for x in range(width):\n",
    "        for y in range(height):\n",
    "            pixel_value = image.getpixel((x,y))\n",
    "            # Assign a color based on the pixel value\n",
    "            color = (pixel_value, 0, 255-pixel_value) # blue-purple gradient\n",
    "            color_image.putpixel((x,y), color)\n",
    "    \n",
    "    return color_image"
   ]
  },
  {
   "cell_type": "code",
   "execution_count": 39,
   "metadata": {},
   "outputs": [],
   "source": [
    "color_image = grayscale_to_color(im)\n",
    "color_image.save(\"colored.png\")"
   ]
  },
  {
   "attachments": {},
   "cell_type": "markdown",
   "metadata": {},
   "source": [
    "Круг в центре"
   ]
  },
  {
   "cell_type": "code",
   "execution_count": 3,
   "metadata": {},
   "outputs": [],
   "source": [
    "# Define the size of the image\n",
    "n = 512\n",
    "\n",
    "# Create a new image with a black background\n",
    "image = Image.new(\"L\", (n,n), color=0)\n",
    "\n",
    "# Draw a white circle in the middle of the image\n",
    "draw = ImageDraw.Draw(image)\n",
    "draw.ellipse((n//3, n//3, 2*n//3, 2*n//3), fill=255)\n",
    "\n",
    "# Save the image to disk\n",
    "# image = grayscale_to_color(image)\n",
    "image.save(\"grayscale_circle.png\")\n"
   ]
  },
  {
   "cell_type": "code",
   "execution_count": 8,
   "metadata": {},
   "outputs": [],
   "source": [
    "# Define the size of the image\n",
    "n = 512\n",
    "\n",
    "# Create a new image with a black background\n",
    "im = Image.new(\"L\", (n,n), color=0)\n",
    "\n",
    "# Draw a white circle in the middle of the image\n",
    "draw = ImageDraw.Draw(im)\n",
    "draw.ellipse((n//3, n//3, 2*n//3, 2*n//3), fill=255)\n",
    "draw.line((0, im.size[1], im.size[0], 0), fill=128)\n",
    "draw.line((0, 0) + im.size, fill=128)\n",
    "\n",
    "# Save the image to disk\n",
    "# image = grayscale_to_color(image)\n",
    "im.save(\"fig.png\")\n"
   ]
  }
 ],
 "metadata": {
  "kernelspec": {
   "display_name": "Python 3",
   "language": "python",
   "name": "python3"
  },
  "language_info": {
   "codemirror_mode": {
    "name": "ipython",
    "version": 3
   },
   "file_extension": ".py",
   "mimetype": "text/x-python",
   "name": "python",
   "nbconvert_exporter": "python",
   "pygments_lexer": "ipython3",
   "version": "3.9.6"
  },
  "orig_nbformat": 4
 },
 "nbformat": 4,
 "nbformat_minor": 2
}
