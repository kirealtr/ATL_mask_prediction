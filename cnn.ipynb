{
  "cells": [
    {
      "cell_type": "code",
      "execution_count": 1,
      "metadata": {
        "id": "zMVlxZ1FDOWO"
      },
      "outputs": [],
      "source": [
        "import numpy as np\n",
        "import matplotlib.pyplot as plt\n",
        "\n",
        "import torch\n",
        "import torchvision\n",
        "\n",
        "from tqdm import tqdm\n",
        "from copy import deepcopy\n",
        "from timeit import default_timer\n",
        "from sklearn.model_selection import train_test_split\n",
        "from sklearn.metrics import ConfusionMatrixDisplay, confusion_matrix, log_loss\n",
        "from sklearn.metrics import RocCurveDisplay, roc_curve, auc\n",
        "\n",
        "\n",
        "import torch.nn as nn\n",
        "import torch.nn.functional as F\n",
        "\n",
        "from torchsummary import summary\n",
        "from torch.utils.data import DataLoader\n",
        "from torch.utils.data import TensorDataset\n",
        "from torch.utils.data import random_split\n",
        "# from apex import amp\n",
        "\n",
        "import gc\n",
        "from PIL import Image"
      ]
    },
    {
      "cell_type": "code",
      "source": [
        "from google.colab import drive\n",
        "drive.mount('/content/drive')"
      ],
      "metadata": {
        "id": "ryEQvsOmDtPi",
        "outputId": "b446cb3a-bcda-41d9-be92-8d3b458bacdd",
        "colab": {
          "base_uri": "https://localhost:8080/"
        }
      },
      "execution_count": 4,
      "outputs": [
        {
          "output_type": "stream",
          "name": "stdout",
          "text": [
            "Mounted at /content/drive\n"
          ]
        }
      ]
    },
    {
      "cell_type": "code",
      "source": [
        "simulations = np.load('/content/drive/MyDrive/simulations.npy', allow_pickle=True)\n",
        "dataset = np.load('/content/drive/MyDrive/dataset.npy', allow_pickle=True)"
      ],
      "metadata": {
        "id": "5tlhq0WdD1C5"
      },
      "execution_count": 5,
      "outputs": []
    },
    {
      "cell_type": "code",
      "execution_count": 6,
      "metadata": {
        "id": "ilxJOOggDOWR"
      },
      "outputs": [],
      "source": [
        "device = torch.device('cuda' if torch.cuda.is_available() else 'cpu')\n",
        "\n",
        "N = simulations.shape[0]\n",
        "# N = \n",
        "data_step = 2\n",
        "X = torch.from_numpy(simulations[::data_step].reshape(-1, 1, 513, 513)).half().to(device)\n",
        "y = torch.from_numpy(dataset[::data_step].reshape(-1, 1, 513, 513)).half().to(device)"
      ]
    },
    {
      "cell_type": "code",
      "source": [
        "del simulations\n",
        "del dataset"
      ],
      "metadata": {
        "id": "3_eEXMLP1tyZ"
      },
      "execution_count": 7,
      "outputs": []
    },
    {
      "cell_type": "code",
      "source": [
        "bs = 10\n",
        "\n",
        "X_train_val, X_test, y_train_val, y_test = train_test_split(X, y, test_size=0.2, random_state=42)\n",
        "X_train, X_val, y_train, y_val = train_test_split(X_train_val, y_train_val, test_size=0.1, random_state=42)\n",
        "\n",
        "train_data = TensorDataset(X_train, y_train)\n",
        "val_data = TensorDataset(X_val, y_val)\n",
        "test_data = TensorDataset(X_test, y_test)\n",
        "\n",
        "train_loader = DataLoader(train_data, batch_size=bs)\n",
        "val_loader = DataLoader(val_data, batch_size=bs)\n",
        "test_loader = DataLoader(test_data, batch_size=bs)\n",
        "\n",
        "scaler = torch.cuda.amp.GradScaler()"
      ],
      "metadata": {
        "id": "b7v2E5ZUa3kn"
      },
      "execution_count": 8,
      "outputs": []
    },
    {
      "cell_type": "code",
      "source": [
        "# del X_train, X_val_test, y_train, y_val_test\n",
        "# del X_val, y_val\n",
        "# del train_data, val_data"
      ],
      "metadata": {
        "id": "E6r7de-CNLUR"
      },
      "execution_count": null,
      "outputs": []
    },
    {
      "cell_type": "code",
      "execution_count": 9,
      "metadata": {
        "id": "QIYCjpBUDOWS"
      },
      "outputs": [],
      "source": [
        "def train(model, criterion, optimizer, X, y, n_epochs, n_stop=10):\n",
        "    # total_size = dataset.shape[0]\n",
        "    # train_dataset, val_dataset, test_dataset = random_split(dataset, \n",
        "                                            # [int(total_size * 0.7), int(total_size * 0.2), int(total_size * 0.1)])\n",
        "    # train_loss = list()\n",
        "    # val_loss = list()\n",
        "    min_val_loss = np.inf\n",
        "    f = 0\n",
        "    # t0 = default_timer()\n",
        "    for epoch in range(n_epochs):\n",
        "        # t1 = default_timer()\n",
        "        model.train()\n",
        "        # train_batch_loss = list()\n",
        "        # mean_train_batch_loss = \n",
        "        for batch in train_loader:\n",
        "            optimizer.zero_grad()\n",
        "            _X, _y = batch\n",
        "            _X, _y = _X.to(device), _y.to(device)\n",
        "          \n",
        "            # loss.backward()\n",
        "            # optimizer.step()\n",
        "            # train_batch_loss.append(loss.item())\n",
        "            with torch.amp.autocast(device_type='cuda', dtype=torch.float16):\n",
        "                _y_pred = model(_X)\n",
        "                loss = criterion(_y_pred, _y)\n",
        "            scaler.scale(loss).backward()\n",
        "            scaler.step(optimizer)\n",
        "            scaler.update()\n",
        "\n",
        "        model.eval()\n",
        "        # val_batch_loss = list()\n",
        "        mean_val_loss = 0\n",
        "        batch_count = 0\n",
        "        for batch in val_loader:\n",
        "            _X, _y = batch\n",
        "            _X, _y = _X.to(device), _y.to(device)\n",
        "            with torch.amp.autocast(device_type='cuda', dtype=torch.float16):\n",
        "                _y_pred = model(_X)\n",
        "                loss = criterion(_y_pred, _y)\n",
        "            mean_val_loss += loss.item()\n",
        "            batch_count += 1\n",
        "            # val_batch_loss.append(loss.item())\n",
        "        mean_val_loss /= batch_count\n",
        "        # t2 = default_timer()\n",
        "\n",
        "        if epoch % 10 == 0:\n",
        "            print(f'Epoch: {epoch}, \\tValidation loss: {(mean_val_loss)}')\n",
        "        # train_loss.append(np.mean(train_batch_loss))\n",
        "        # val_loss.append(np.mean(val_batch_loss))\n",
        "        # val_loss = np.mean(val_batch_loss)\n",
        "        # (optional) early stopping:\n",
        "\n",
        "        if round(mean_val_loss, 3) >= min_val_loss:\n",
        "            f = f + 1\n",
        "        else:\n",
        "            # print(f'epoch: {epoch}, val loss did decrease, saving model')\n",
        "            f = 0\n",
        "            best_model = deepcopy(model)\n",
        "            min_val_loss = round(mean_val_loss, 3)\n",
        "        if f >= n_stop:\n",
        "            print(f'epoch: {epoch}, val loss did not decrease for {f} epoch(s)')\n",
        "            break\n",
        "\n",
        "    return best_model #, train_loss, val_loss"
      ]
    },
    {
      "cell_type": "code",
      "source": [
        "def test_loss(model, criterion):\n",
        "  mean_loss = 0\n",
        "  batch_count = 0\n",
        "  for batch in test_loader:\n",
        "    with torch.no_grad():\n",
        "      _X, _y = batch\n",
        "      _X, _y = _X.cpu().float(), _y.cpu().float()\n",
        "      # with torch.amp.autocast(device_type='cuda', dtype=torch.float16):\n",
        "      model.cpu()\n",
        "      y_pred = model(_X)\n",
        "      loss = criterion(y_pred, _y)\n",
        "      mean_loss += loss.item()\n",
        "      batch_count += 1\n",
        "    \n",
        "  return mean_loss / batch_count"
      ],
      "metadata": {
        "id": "5SHbsO-cf44c"
      },
      "execution_count": 10,
      "outputs": []
    },
    {
      "cell_type": "code",
      "source": [
        "# Define the CNN architecture\n",
        "ch_b = 4\n",
        "class CNN1(torch.nn.Module):\n",
        "  def __init__(self):\n",
        "    super(CNN1, self).__init__()\n",
        "    self.conv1 = torch.nn.Conv2d(1, ch_b, kernel_size=3, padding=2, dilation=2) # 513\n",
        "    self.pool1 = torch.nn.MaxPool2d(kernel_size=2)                # 256\n",
        "    self.conv2 = torch.nn.Conv2d(ch_b, ch_b * 2, kernel_size=3, padding=2, dilation=2) # 256\n",
        "    self.pool2 = torch.nn.MaxPool2d(kernel_size=2)                # 128\n",
        "    self.fc1 = torch.nn.Linear(ch_b * 2 * 128 * 128, 128)\n",
        "    self.fc2 = torch.nn.Linear(128, 513 * 513)\n",
        "\n",
        "  def forward(self, x):\n",
        "    x = self.conv1(x)\n",
        "    x = torch.relu(x)\n",
        "    x = self.pool1(x)\n",
        "    x = self.conv2(x)\n",
        "    x = torch.relu(x)\n",
        "    x = self.pool2(x)\n",
        "    x = x.view(-1, ch_b * 2 * 128 * 128)\n",
        "    x = self.fc1(x)\n",
        "    x = torch.relu(x)\n",
        "    x = self.fc2(x)\n",
        "    x = torch.relu(x)\n",
        "    return x.view(-1, 1, 513, 513)"
      ],
      "metadata": {
        "id": "_xPFXBEUHfPo"
      },
      "execution_count": 11,
      "outputs": []
    },
    {
      "cell_type": "code",
      "source": [
        "# Define the CNN architecture\n",
        "ch_b = 2\n",
        "class CNN2(torch.nn.Module):\n",
        "  def __init__(self):\n",
        "    super(CNN2, self).__init__()\n",
        "    self.conv1 = torch.nn.Conv2d(1, ch_b, kernel_size=6, padding=5, dilation=2) # 513\n",
        "    self.pool1 = torch.nn.MaxPool2d(kernel_size=2)                # 256\n",
        "    self.conv2 = torch.nn.Conv2d(ch_b, ch_b*2, kernel_size=6, padding=5, dilation=2) # 256\n",
        "    self.pool2 = torch.nn.MaxPool2d(kernel_size=2)                # 128\n",
        "    self.fc1 = torch.nn.Linear(ch_b * 2 * 128 * 128, 128)\n",
        "    self.fc2 = torch.nn.Linear(128, 513 * 513)\n",
        "\n",
        "  def forward(self, x):\n",
        "    x = self.conv1(x)\n",
        "    x = torch.relu(x)\n",
        "    x = self.pool1(x)\n",
        "    x = self.conv2(x)\n",
        "    x = torch.relu(x)\n",
        "    x = self.pool2(x)\n",
        "    x = x.view(-1, ch_b * 2 * 128 * 128)\n",
        "    x = self.fc1(x)\n",
        "    x = torch.relu(x)\n",
        "    x = self.fc2(x)\n",
        "    x = torch.relu(x)\n",
        "    return x.view(-1, 1, 513, 513)"
      ],
      "metadata": {
        "id": "YsfbqKVRGVOp"
      },
      "execution_count": 16,
      "outputs": []
    },
    {
      "cell_type": "code",
      "source": [
        "# m = nn.MaxPool2d(kernel_size=4)\n",
        "m = torch.nn.Conv2d(1, 1, kernel_size=3, padding=2, dilation=2, stride=2)\n",
        "s = 256\n",
        "input = torch.randn(1, s, s)\n",
        "output = m(input)\n",
        "output.size()"
      ],
      "metadata": {
        "id": "pVpGHy4aKH4R",
        "outputId": "8ae03057-3017-4686-fd0a-57f348f514c8",
        "colab": {
          "base_uri": "https://localhost:8080/"
        }
      },
      "execution_count": 13,
      "outputs": [
        {
          "output_type": "execute_result",
          "data": {
            "text/plain": [
              "torch.Size([1, 128, 128])"
            ]
          },
          "metadata": {},
          "execution_count": 13
        }
      ]
    },
    {
      "cell_type": "code",
      "execution_count": 12,
      "metadata": {
        "id": "Qv-2uW3CDOWT",
        "outputId": "882feae2-e6e1-414a-87d3-3891667da2bc",
        "colab": {
          "base_uri": "https://localhost:8080/"
        }
      },
      "outputs": [
        {
          "output_type": "stream",
          "name": "stdout",
          "text": [
            "Epoch: 0, \tValidation loss: 13529.972422724184\n",
            "Epoch: 10, \tValidation loss: 11722.47114894701\n",
            "Epoch: 20, \tValidation loss: 9828.403256623642\n",
            "Epoch: 30, \tValidation loss: 9185.764054008152\n",
            "Epoch: 40, \tValidation loss: 8928.257239300272\n",
            "Epoch: 50, \tValidation loss: 23880.27139945652\n",
            "epoch: 59, val loss did not decrease for 10 epoch(s)\n"
          ]
        }
      ],
      "source": [
        "# Instantiate the CNN\n",
        "model = CNN1().to(device)\n",
        "# model.half()\n",
        "model.cuda()\n",
        "\n",
        "# Define the loss function and optimizer\n",
        "criterion = torch.nn.MSELoss()#.half()\n",
        "# criterion.half()\n",
        "optimizer = torch.optim.Adam(model.parameters(), lr=0.005)\n",
        "\n",
        "# with torch.autograd.detect_anomaly(check_nan=True):\n",
        "model = train(model, criterion, optimizer, X, y, n_epochs=100, n_stop=10)"
      ]
    },
    {
      "cell_type": "code",
      "source": [
        "model = torch.load('/content/drive/MyDrive/models/model2', map_location=torch.device('cpu')).to(device)\n",
        "# model.cuda()"
      ],
      "metadata": {
        "id": "SZcuPTAMkisE"
      },
      "execution_count": null,
      "outputs": []
    },
    {
      "cell_type": "code",
      "execution_count": 13,
      "metadata": {
        "id": "YHAD2WTeDOWT",
        "outputId": "7783f0e6-61e6-497a-c9d7-14363f128e9d",
        "colab": {
          "base_uri": "https://localhost:8080/"
        }
      },
      "outputs": [
        {
          "output_type": "stream",
          "name": "stdout",
          "text": [
            "Test loss: 8876.461844308036\n"
          ]
        }
      ],
      "source": [
        "criterion = torch.nn.MSELoss()\n",
        "print(f'Test loss: {test_loss(model, criterion)}')"
      ]
    },
    {
      "cell_type": "code",
      "source": [
        "torch.save(model, '/content/drive/MyDrive/model4643')"
      ],
      "metadata": {
        "id": "L7eZYBV3kEAW"
      },
      "execution_count": 20,
      "outputs": []
    },
    {
      "cell_type": "code",
      "source": [
        "# circle_np = np.array(Image.open('/content/drive/MyDrive/images/im10.png').convert(\"L\")) / 64\n",
        "circle_np = np.load('/content/sim18.npy')\n",
        "circle =  torch.from_numpy(circle_np.reshape(1, 513, 513)).half().to(device)\n",
        "model.cuda()\n",
        "with torch.amp.autocast(device_type='cuda', dtype=torch.float16):\n",
        "  circle_pred = model(circle)#.view(-1, 513, 513)"
      ],
      "metadata": {
        "id": "l1lE0JVsCMkh"
      },
      "execution_count": null,
      "outputs": []
    },
    {
      "cell_type": "code",
      "source": [
        "def frame_plot(arr, ax):\n",
        "  rectX = np.linspace(0, 1, arr.shape[0])\n",
        "  rectY = np.linspace(0, 1, arr.shape[1])\n",
        "  x, y = np.meshgrid(rectX, rectY)\n",
        "  ax.pcolormesh(x, y, arr)"
      ],
      "metadata": {
        "id": "AvxmnG3uEDxj"
      },
      "execution_count": null,
      "outputs": []
    },
    {
      "cell_type": "code",
      "source": [
        "circle_pred_np = circle_pred.cpu().detach().numpy().reshape(513, 513)"
      ],
      "metadata": {
        "id": "_KrkGfEwFkgD"
      },
      "execution_count": null,
      "outputs": []
    },
    {
      "cell_type": "code",
      "source": [
        "fig, ax = plt.subplots(1, 2, figsize=(16, 8))\n",
        "frame_plot(circle_pred_np, ax=ax[0])\n",
        "frame_plot(circle_np, ax=ax[1])"
      ],
      "metadata": {
        "id": "YP0rBwFYDY7b"
      },
      "execution_count": null,
      "outputs": []
    },
    {
      "cell_type": "code",
      "source": [
        "circle_pred_np[256][256]"
      ],
      "metadata": {
        "id": "5XdD3JQNGqHr",
        "outputId": "4af71ca3-83b0-4671-f1eb-1d4158074792",
        "colab": {
          "base_uri": "https://localhost:8080/"
        }
      },
      "execution_count": null,
      "outputs": [
        {
          "output_type": "execute_result",
          "data": {
            "text/plain": [
              "136.6"
            ]
          },
          "metadata": {},
          "execution_count": 26
        }
      ]
    },
    {
      "cell_type": "code",
      "source": [
        "circle_im = Image.fromarray(circle_pred_np)\n",
        "circle_im = circle_im.convert('L')\n",
        "circle_im.show()\n",
        "# circle_im.save('/content/drive/MyDrive/prediction_test/im10.png')"
      ],
      "metadata": {
        "id": "OtktlWJOF0iG"
      },
      "execution_count": null,
      "outputs": []
    }
  ],
  "metadata": {
    "kernelspec": {
      "display_name": "Python 3",
      "language": "python",
      "name": "python3"
    },
    "language_info": {
      "codemirror_mode": {
        "name": "ipython",
        "version": 3
      },
      "file_extension": ".py",
      "mimetype": "text/x-python",
      "name": "python",
      "nbconvert_exporter": "python",
      "pygments_lexer": "ipython3",
      "version": "3.9.6"
    },
    "orig_nbformat": 4,
    "colab": {
      "provenance": [],
      "gpuType": "T4"
    },
    "accelerator": "GPU",
    "gpuClass": "standard"
  },
  "nbformat": 4,
  "nbformat_minor": 0
}