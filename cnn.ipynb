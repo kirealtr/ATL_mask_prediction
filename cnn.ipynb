{
  "cells": [
    {
      "cell_type": "code",
      "execution_count": 1,
      "metadata": {
        "id": "zMVlxZ1FDOWO"
      },
      "outputs": [],
      "source": [
        "import numpy as np\n",
        "import matplotlib.pyplot as plt\n",
        "\n",
        "import torch\n",
        "import torchvision\n",
        "\n",
        "from tqdm import tqdm\n",
        "from copy import deepcopy\n",
        "from timeit import default_timer\n",
        "from sklearn.model_selection import train_test_split\n",
        "from sklearn.metrics import ConfusionMatrixDisplay, confusion_matrix, log_loss\n",
        "from sklearn.metrics import RocCurveDisplay, roc_curve, auc\n",
        "\n",
        "\n",
        "import torch.nn as nn\n",
        "import torch.nn.functional as F\n",
        "\n",
        "from torchsummary import summary\n",
        "from torch.utils.data import DataLoader\n",
        "from torch.utils.data import TensorDataset\n",
        "from torch.utils.data import random_split\n",
        "# from apex import amp\n",
        "\n",
        "import gc\n",
        "# from numba import cuda"
      ]
    },
    {
      "cell_type": "code",
      "source": [
        "from google.colab import drive\n",
        "drive.mount('/content/drive')"
      ],
      "metadata": {
        "id": "ryEQvsOmDtPi",
        "outputId": "fcee2f75-d427-415f-974c-618d2992a50b",
        "colab": {
          "base_uri": "https://localhost:8080/"
        }
      },
      "execution_count": 2,
      "outputs": [
        {
          "output_type": "stream",
          "name": "stdout",
          "text": [
            "Drive already mounted at /content/drive; to attempt to forcibly remount, call drive.mount(\"/content/drive\", force_remount=True).\n"
          ]
        }
      ]
    },
    {
      "cell_type": "code",
      "source": [
        "simulations = np.load('/content/drive/MyDrive/simulations.npy', allow_pickle=True)\n",
        "dataset = np.load('/content/drive/MyDrive/dataset.npy', allow_pickle=True)"
      ],
      "metadata": {
        "id": "5tlhq0WdD1C5"
      },
      "execution_count": 3,
      "outputs": []
    },
    {
      "cell_type": "code",
      "execution_count": 4,
      "metadata": {
        "id": "ilxJOOggDOWR"
      },
      "outputs": [],
      "source": [
        "device = torch.device('cuda' if torch.cuda.is_available() else 'cpu')\n",
        "\n",
        "N = simulations.shape[0]\n",
        "# N = \n",
        "X = torch.from_numpy(simulations[::2].reshape(-1, 1, 513, 513)).half().to(device)\n",
        "y = torch.from_numpy(dataset[::2].reshape(-1, 1, 513, 513)).half().to(device)"
      ]
    },
    {
      "cell_type": "code",
      "source": [
        "del simulations\n",
        "del dataset"
      ],
      "metadata": {
        "id": "3_eEXMLP1tyZ"
      },
      "execution_count": 5,
      "outputs": []
    },
    {
      "cell_type": "code",
      "source": [
        "bs = 10\n",
        "\n",
        "X_train_val, X_test, y_train_val, y_test = train_test_split(X, y, test_size=0.2, random_state=42)\n",
        "X_train, X_val, y_train, y_val = train_test_split(X_train_val, y_train_val, test_size=0.1, random_state=42)\n",
        "\n",
        "train_data = TensorDataset(X_train, y_train)\n",
        "val_data = TensorDataset(X_val, y_val)\n",
        "test_data = TensorDataset(X_test, y_test)\n",
        "\n",
        "train_loader = DataLoader(train_data, batch_size=bs)\n",
        "val_loader = DataLoader(val_data, batch_size=bs)\n",
        "test_loader = DataLoader(test_data, batch_size=bs)\n",
        "\n",
        "scaler = torch.cuda.amp.GradScaler()"
      ],
      "metadata": {
        "id": "b7v2E5ZUa3kn"
      },
      "execution_count": 6,
      "outputs": []
    },
    {
      "cell_type": "code",
      "source": [
        "# del X_train, X_val_test, y_train, y_val_test\n",
        "# del X_val, y_val\n",
        "# del train_data, val_data"
      ],
      "metadata": {
        "id": "E6r7de-CNLUR"
      },
      "execution_count": 7,
      "outputs": []
    },
    {
      "cell_type": "code",
      "execution_count": 8,
      "metadata": {
        "id": "QIYCjpBUDOWS"
      },
      "outputs": [],
      "source": [
        "def train(model, criterion, optimizer, X, y, n_epochs, n_stop=10):\n",
        "    # total_size = dataset.shape[0]\n",
        "    # train_dataset, val_dataset, test_dataset = random_split(dataset, \n",
        "                                            # [int(total_size * 0.7), int(total_size * 0.2), int(total_size * 0.1)])\n",
        "    # train_loss = list()\n",
        "    # val_loss = list()\n",
        "    min_val_loss = np.inf\n",
        "    f = 0\n",
        "    # t0 = default_timer()\n",
        "    for epoch in range(n_epochs):\n",
        "        # t1 = default_timer()\n",
        "        model.train()\n",
        "        # train_batch_loss = list()\n",
        "        # mean_train_batch_loss = \n",
        "        for batch in train_loader:\n",
        "            optimizer.zero_grad()\n",
        "            _X, _y = batch\n",
        "            _X, _y = _X.to(device), _y.to(device)\n",
        "          \n",
        "            # loss.backward()\n",
        "            # optimizer.step()\n",
        "            # train_batch_loss.append(loss.item())\n",
        "            with torch.amp.autocast(device_type='cuda', dtype=torch.float16):\n",
        "                _y_pred = model(_X)\n",
        "                loss = criterion(_y_pred, _y)\n",
        "            scaler.scale(loss).backward()\n",
        "            scaler.step(optimizer)\n",
        "            scaler.update()\n",
        "\n",
        "        model.eval()\n",
        "        # val_batch_loss = list()\n",
        "        mean_val_loss = 0\n",
        "        batch_count = 0\n",
        "        for batch in val_loader:\n",
        "            _X, _y = batch\n",
        "            _X, _y = _X.to(device), _y.to(device)\n",
        "            with torch.amp.autocast(device_type='cuda', dtype=torch.float16):\n",
        "                _y_pred = model(_X)\n",
        "                loss = criterion(_y_pred, _y)\n",
        "            mean_val_loss += loss.item()\n",
        "            batch_count += 1\n",
        "            # val_batch_loss.append(loss.item())\n",
        "        mean_val_loss /= batch_count\n",
        "        # t2 = default_timer()\n",
        "\n",
        "        if epoch % 10 == 0:\n",
        "            print(f'Epoch: {epoch}, \\tValidation loss: {(mean_val_loss)}')\n",
        "        # train_loss.append(np.mean(train_batch_loss))\n",
        "        # val_loss.append(np.mean(val_batch_loss))\n",
        "        # val_loss = np.mean(val_batch_loss)\n",
        "        # (optional) early stopping:\n",
        "\n",
        "        if round(mean_val_loss, 3) >= min_val_loss:\n",
        "            f = f + 1\n",
        "        else:\n",
        "            # print(f'epoch: {epoch}, val loss did decrease, saving model')\n",
        "            f = 0\n",
        "            best_model = deepcopy(model)\n",
        "            min_val_loss = round(mean_val_loss, 3)\n",
        "        if f >= n_stop:\n",
        "            print(f'epoch: {epoch}, val loss did not decrease for {f} epoch(s)')\n",
        "            break\n",
        "\n",
        "    return best_model #, train_loss, val_loss"
      ]
    },
    {
      "cell_type": "code",
      "source": [
        "def test_loss(model, criterion):\n",
        "  mean_loss = 0\n",
        "  batch_count = 0\n",
        "  for batch in test_loader:\n",
        "    _X, _y = batch\n",
        "    _X, _y = _X.to(device), _y.to(device)\n",
        "    with torch.amp.autocast(device_type='cuda', dtype=torch.float16):\n",
        "      y_pred = model(X_test)\n",
        "      loss = criterion(y_pred, y_test)\n",
        "    mean_loss += loss.item()\n",
        "    batch_count += 1\n",
        "    \n",
        "  return mean_loss / batch_count"
      ],
      "metadata": {
        "id": "5SHbsO-cf44c"
      },
      "execution_count": 9,
      "outputs": []
    },
    {
      "cell_type": "code",
      "source": [
        "# Define the CNN architecture\n",
        "class CNN1(torch.nn.Module):\n",
        "  def __init__(self):\n",
        "    super(CNN1, self).__init__()\n",
        "    self.conv1 = torch.nn.Conv2d(1, 32, kernel_size=3, padding=1) # 513\n",
        "    self.pool1 = torch.nn.MaxPool2d(kernel_size=2)                # 256\n",
        "    self.conv2 = torch.nn.Conv2d(32, 64, kernel_size=3, padding=1)# 256\n",
        "    self.pool2 = torch.nn.MaxPool2d(kernel_size=2)                # 128\n",
        "    self.fc1 = torch.nn.Linear(64 * 128 * 128, 128)\n",
        "    self.fc2 = torch.nn.Linear(128, 513 * 513)\n",
        "\n",
        "  def forward(self, x):\n",
        "    x = self.conv1(x)\n",
        "    x = torch.relu(x)\n",
        "    x = self.pool1(x)\n",
        "    x = self.conv2(x)\n",
        "    x = torch.relu(x)\n",
        "    x = self.pool2(x)\n",
        "    x = x.view(-1, 64 * 128 * 128)\n",
        "    x = self.fc1(x)\n",
        "    x = torch.relu(x)\n",
        "    x = self.fc2(x)\n",
        "    x = torch.relu(x)\n",
        "    return x.view(-1, 1, 513, 513)"
      ],
      "metadata": {
        "id": "_xPFXBEUHfPo"
      },
      "execution_count": 10,
      "outputs": []
    },
    {
      "cell_type": "code",
      "source": [
        "class CNN2(nn.Module):\n",
        "    def __init__(self):\n",
        "        super(CNN2, self).__init__()\n",
        "        \n",
        "        # Define the layers\n",
        "        self.conv1 = nn.Conv2d(in_channels=1, out_channels=16, kernel_size=3, stride=1, padding=1) # now shape is (513, 513) \n",
        "        self.maxpool1 = nn.MaxPool2d(kernel_size=2) # (256, 256)\n",
        "        self.conv2 = nn.Conv2d(in_channels=16, out_channels=32, kernel_size=3, stride=1, padding=1) # 256\n",
        "        # self.maxpool2 = nn.MaxPool2d(kernel_size=4) # 32\n",
        "        # self.fc1 = torch.nn.Linear(32 * 32 * 32, 513 * 513)\n",
        "        # self.transconv1 = nn.ConvTranspose2d(in_channels=32, out_channels=64, kernel_size=5, stride=4, padding=1, output_padding=1) # 128\n",
        "        self.maxpool3 = nn.MaxPool2d(kernel_size=2) # 64\n",
        "        self.transconv2 = nn.ConvTranspose2d(in_channels=32, out_channels=16, kernel_size=5, stride=4, padding=1, output_padding=1) # 256\n",
        "        self.maxpool4 = nn.MaxPool2d(kernel_size=2) # 128\n",
        "        self.transconv3 = nn.ConvTranspose2d(in_channels=16, out_channels=16, kernel_size=5, stride=4, padding=1, output_padding=2) # 513\n",
        "        self.conv3 = nn.Conv2d(in_channels=16, out_channels=1, kernel_size=3, stride=1, padding=1)\n",
        "\n",
        "    def forward(self, x):\n",
        "        # Apply the layers in sequence\n",
        "        x = self.conv1(x)\n",
        "        x = nn.functional.relu(x)\n",
        "        x = self.maxpool1(x)\n",
        "        x = self.conv2(x)\n",
        "        x = nn.functional.relu(x)\n",
        "        x = self.maxpool2(x)\n",
        "        x = self.transconv1(x)\n",
        "        x = nn.functional.relu(x)\n",
        "        x = self.maxpool3(x)\n",
        "        x = self.transconv2(x)\n",
        "        x = nn.functional.relu(x)\n",
        "        x = self.maxpool4(x)\n",
        "        x = self.transconv3(x)\n",
        "        x = self.conv3(x)\n",
        "        # x = self.fc1(x)\n",
        "        x = nn.functional.relu(x)\n",
        "        \n",
        "        return x\n"
      ],
      "metadata": {
        "id": "YsfbqKVRGVOp"
      },
      "execution_count": 11,
      "outputs": []
    },
    {
      "cell_type": "code",
      "source": [
        "# m = nn.MaxPool2d(kernel_size=4)\n",
        "m = nn.ConvTranspose2d(in_channels=1, out_channels=1, kernel_size=5, stride=4, padding=1, output_padding=1)\n",
        "input = torch.randn(1, 32, 32)\n",
        "output = m(input)\n",
        "output.size()"
      ],
      "metadata": {
        "id": "pVpGHy4aKH4R",
        "outputId": "be50142b-0a08-44be-83fd-a26bde9df81d",
        "colab": {
          "base_uri": "https://localhost:8080/"
        }
      },
      "execution_count": 12,
      "outputs": [
        {
          "output_type": "execute_result",
          "data": {
            "text/plain": [
              "torch.Size([1, 128, 128])"
            ]
          },
          "metadata": {},
          "execution_count": 12
        }
      ]
    },
    {
      "cell_type": "code",
      "execution_count": null,
      "metadata": {
        "id": "Qv-2uW3CDOWT"
      },
      "outputs": [],
      "source": [
        "# Instantiate the CNN\n",
        "model = CNN1().to(device)\n",
        "# model.half()\n",
        "model.cuda()\n",
        "\n",
        "# Define the loss function and optimizer\n",
        "criterion = torch.nn.MSELoss()#.half()\n",
        "# criterion.half()\n",
        "optimizer = torch.optim.Adam(model.parameters(), lr=0.01)\n",
        "\n",
        "# with torch.autograd.detect_anomaly(check_nan=True):\n",
        "model = train(model, criterion, optimizer, X, y, n_epochs=500, n_stop=50)"
      ]
    },
    {
      "cell_type": "code",
      "source": [
        "model = torch.load('/content/drive/MyDrive/models/model1', map_location=torch.device('cpu')) # .to(device)\n",
        "# model.cuda()"
      ],
      "metadata": {
        "id": "SZcuPTAMkisE"
      },
      "execution_count": null,
      "outputs": []
    },
    {
      "cell_type": "code",
      "execution_count": null,
      "metadata": {
        "id": "YHAD2WTeDOWT"
      },
      "outputs": [],
      "source": [
        "# criterion = torch.nn.MSELoss()\n",
        "print(f'Test loss: {test_loss(model, criterion)}')"
      ]
    },
    {
      "cell_type": "code",
      "source": [
        "torch.save(model, '/content/drive/MyDrive/model1')"
      ],
      "metadata": {
        "id": "L7eZYBV3kEAW"
      },
      "execution_count": 8,
      "outputs": []
    },
    {
      "cell_type": "code",
      "source": [
        "from PIL import Image"
      ],
      "metadata": {
        "id": "FKpK9iA2C3JO"
      },
      "execution_count": 9,
      "outputs": []
    },
    {
      "cell_type": "code",
      "source": [
        "circle_np = np.array(Image.open('/content/im10.png').convert(\"L\"))\n",
        "circle =  torch.from_numpy(circle_np.reshape(1, 513, 513)).half().to(device)\n",
        "with torch.amp.autocast(device_type='cuda', dtype=torch.float16):\n",
        "  circle_pred = model(circle)#.view(-1, 513, 513)"
      ],
      "metadata": {
        "id": "l1lE0JVsCMkh"
      },
      "execution_count": 10,
      "outputs": []
    },
    {
      "cell_type": "code",
      "source": [
        "def frame_plot(arr, ax):\n",
        "  rectX = np.linspace(0, 1, arr.shape[0])\n",
        "  rectY = np.linspace(0, 1, arr.shape[1])\n",
        "  x, y = np.meshgrid(rectX, rectY)\n",
        "  ax.pcolormesh(x, y, arr)"
      ],
      "metadata": {
        "id": "AvxmnG3uEDxj"
      },
      "execution_count": 11,
      "outputs": []
    },
    {
      "cell_type": "code",
      "source": [
        "circle_pred_np = circle_pred.cpu().detach().numpy().reshape(513, 513)"
      ],
      "metadata": {
        "id": "_KrkGfEwFkgD"
      },
      "execution_count": 12,
      "outputs": []
    },
    {
      "cell_type": "code",
      "source": [
        "fig, ax = plt.subplots(1, 2, figsize=(16, 8))\n",
        "frame_plot(circle_pred_np, ax=ax[0])\n",
        "frame_plot(circle_np, ax=ax[1])"
      ],
      "metadata": {
        "id": "YP0rBwFYDY7b"
      },
      "execution_count": null,
      "outputs": []
    },
    {
      "cell_type": "code",
      "source": [
        "circle_pred_np"
      ],
      "metadata": {
        "id": "5XdD3JQNGqHr"
      },
      "execution_count": null,
      "outputs": []
    },
    {
      "cell_type": "code",
      "source": [
        "circle_im = Image.fromarray(circle_pred_np)\n",
        "circle_im = circle_im.convert('L')\n",
        "circle_im.show()\n",
        "# circle_im.save('/content/drive/MyDrive/prediction_test/im10.png')"
      ],
      "metadata": {
        "id": "OtktlWJOF0iG"
      },
      "execution_count": null,
      "outputs": []
    }
  ],
  "metadata": {
    "kernelspec": {
      "display_name": "Python 3",
      "language": "python",
      "name": "python3"
    },
    "language_info": {
      "codemirror_mode": {
        "name": "ipython",
        "version": 3
      },
      "file_extension": ".py",
      "mimetype": "text/x-python",
      "name": "python",
      "nbconvert_exporter": "python",
      "pygments_lexer": "ipython3",
      "version": "3.9.6"
    },
    "orig_nbformat": 4,
    "colab": {
      "provenance": [],
      "gpuType": "T4"
    },
    "accelerator": "GPU",
    "gpuClass": "standard"
  },
  "nbformat": 4,
  "nbformat_minor": 0
}