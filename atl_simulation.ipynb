{
 "cells": [
  {
   "attachments": {},
   "cell_type": "markdown",
   "metadata": {},
   "source": [
    "## Ноутбук с симуляцией ATL\n",
    "\n",
    "Импорты:"
   ]
  },
  {
   "cell_type": "code",
   "execution_count": 43,
   "metadata": {},
   "outputs": [],
   "source": [
    "import numpy as np\n",
    "import pandas as pd\n",
    "import matplotlib.pyplot as plt\n",
    "import seaborn as sns\n",
    "\n",
    "import os\n",
    "from PIL import Image, ImageDraw\n",
    "from pyffs import ffsn, iffsn, ffs_shift"
   ]
  },
  {
   "attachments": {},
   "cell_type": "markdown",
   "metadata": {},
   "source": [
    "### Функция, считающая картину на определенном расстоянии по фотке маски\n",
    "\n",
    "пока что только для монохроматического пучка (просто саморепродукция)"
   ]
  },
  {
   "cell_type": "code",
   "execution_count": 79,
   "metadata": {},
   "outputs": [],
   "source": [
    "def compute_atl(mask, wavelength, T_x, T_y, z = None):\n",
    "    '''\n",
    "    Функция для вычисления дифракционной картины ATL\n",
    "    param mask: изображение маски,\n",
    "    param scale: масштаб маски, [ед./пиксель], \n",
    "    param period: период маски, [ед.], \n",
    "    param wavelength: длина волны, [ед.]\n",
    "    param z: расстояние от картины до маски, [1000 * ед.]\n",
    "\n",
    "    return: изображение картины\n",
    "    '''\n",
    "\n",
    "    mask_array = np.array(mask)\n",
    "    print(mask_array.shape)\n",
    "\n",
    "    T = [T_x, T_y]\n",
    "    T_c = [0, 0]\n",
    "    N_FS = [9, 9]\n",
    "    F = ffs_shift(ffsn(mask_array, T, T_c, N_FS))\n",
    "    f_x = np.reshape(np.arange(F.shape[0]) / T_x, (1, -1))\n",
    "    f_y = np.reshape(np.arange(F.shape[1]) / T_y, (-1, 1))\n",
    "    # f_y = np.arange(F.shape[1]) / T_y\n",
    "    if z == None:\n",
    "        z = 1 * T_x ** 2 / wavelength\n",
    "    H = np.exp(-1j * np.pi * wavelength * z * (np.power(f_x, 2) + np.power(f_y, 2)))\n",
    "    result_array = iffsn(F * H, T, T_c, N_FS)\n",
    "    reps = np.tile(np.array(result_array), (5, 5))\n",
    "    return Image.fromarray(np.absolute(reps))"
   ]
  },
  {
   "attachments": {},
   "cell_type": "markdown",
   "metadata": {},
   "source": [
    "Пробуем функцию на примере кружка"
   ]
  },
  {
   "cell_type": "code",
   "execution_count": 81,
   "metadata": {},
   "outputs": [
    {
     "name": "stdout",
     "output_type": "stream",
     "text": [
      "(256, 256)\n"
     ]
    }
   ],
   "source": [
    "mask = Image.open(\"grayscale_circle.png\").convert(\"L\")\n",
    "period = 1\n",
    "wavelength = 0.1\n",
    "z = 7\n",
    "pic = compute_atl(mask, wavelength, period, period, z)\n",
    "pic.show()"
   ]
  },
  {
   "attachments": {},
   "cell_type": "markdown",
   "metadata": {},
   "source": [
    "### Эту херню сделала ChatGPT\n",
    "\n",
    "(это не то)"
   ]
  },
  {
   "cell_type": "code",
   "execution_count": 31,
   "metadata": {},
   "outputs": [],
   "source": [
    "reps = np.tile(np.array(mask), (10, 10)) # Change the number of repetitions as needed\n",
    "\n",
    "# Perform Fourier transform\n",
    "fft = np.fft.fft2(reps)\n",
    "\n",
    "# Calculate Talbot distance\n",
    "Td = (100 * period**2) / wavelength\n",
    "\n",
    "# Apply phase shift\n",
    "phase_shift = np.exp(-1j * np.pi * Td / wavelength * (np.fft.fftfreq(fft.shape[0])[:, np.newaxis]**2 + np.fft.fftfreq(fft.shape[1])**2))\n",
    "fft_shifted = fft * phase_shift\n",
    "\n",
    "# Inverse Fourier transform\n",
    "output = np.fft.ifft2(fft_shifted)\n",
    "im = Image.fromarray(np.absolute(output))\n",
    "im.show()"
   ]
  }
 ],
 "metadata": {
  "kernelspec": {
   "display_name": "Python 3",
   "language": "python",
   "name": "python3"
  },
  "language_info": {
   "codemirror_mode": {
    "name": "ipython",
    "version": 3
   },
   "file_extension": ".py",
   "mimetype": "text/x-python",
   "name": "python",
   "nbconvert_exporter": "python",
   "pygments_lexer": "ipython3",
   "version": "3.9.6"
  },
  "orig_nbformat": 4
 },
 "nbformat": 4,
 "nbformat_minor": 2
}
