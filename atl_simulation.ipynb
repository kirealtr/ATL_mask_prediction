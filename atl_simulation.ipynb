{
 "cells": [
  {
   "attachments": {},
   "cell_type": "markdown",
   "metadata": {},
   "source": [
    "## Ноутбук с симуляцией ATL"
   ]
  },
  {
   "attachments": {},
   "cell_type": "markdown",
   "metadata": {},
   "source": [
    "Если используется GPU, выставить соответствующий флаг"
   ]
  },
  {
   "cell_type": "code",
   "execution_count": 25,
   "metadata": {},
   "outputs": [],
   "source": [
    "GPU = False\n",
    "# GPU = True"
   ]
  },
  {
   "cell_type": "code",
   "execution_count": null,
   "metadata": {},
   "outputs": [],
   "source": [
    "!pip install pyffs\n",
    "!pip install pint\n",
    "!pip install cupy"
   ]
  },
  {
   "attachments": {},
   "cell_type": "markdown",
   "metadata": {},
   "source": [
    "Импорты:"
   ]
  },
  {
   "cell_type": "code",
   "execution_count": 26,
   "metadata": {},
   "outputs": [],
   "source": [
    "if GPU:\n",
    "    import cupy as np\n",
    "else:\n",
    "    import numpy as np\n",
    "import pandas as pd\n",
    "import matplotlib.pyplot as plt\n",
    "import seaborn as sns\n",
    "import scipy.stats as sps\n",
    "\n",
    "import os\n",
    "from PIL import Image, ImageDraw\n",
    "from pyffs import ffsn, iffsn, ffs_shift, iffs_shift\n",
    "\n",
    "import pint\n",
    "u = pint.UnitRegistry()\n",
    "MAX_INTENS = 256"
   ]
  },
  {
   "attachments": {},
   "cell_type": "markdown",
   "metadata": {},
   "source": [
    "### compute_carpet: Функция, считающая картину на определенном расстоянии по фотке маски\n",
    "\n",
    "### compute_ATL: Главная симуляция ATL картины по маске"
   ]
  },
  {
   "cell_type": "code",
   "execution_count": 31,
   "metadata": {},
   "outputs": [],
   "source": [
    "def my_matmul(a, m):\n",
    "    if np.isscalar(a):\n",
    "        return a * m\n",
    "    else:\n",
    "        return np.outer(a, m).reshape(len(a), m.shape[0], m.shape[1])\n",
    "    \n",
    "def compute_carpet(mask, wavelength, T_x, T_y, z):\n",
    "    '''\n",
    "    Функция для вычисления дифракционной картины ATL\n",
    "    param mask: изображение маски,\n",
    "    param period: период маски, [ед.], \n",
    "    param wavelength: длина волны, [ед.]\n",
    "    param z: расстояние от картины до маски, [1000 * ед.]\n",
    "\n",
    "    return: изображение картины\n",
    "    '''\n",
    "\n",
    "    mask_array = np.sqrt(np.array(mask))\n",
    "    \n",
    "    N = mask_array.shape[0]\n",
    "    n = (N - 1) // 2\n",
    "\n",
    "    T = np.array([float(T_x / u.mm), float(T_y / u.mm)])\n",
    "    T_c = T / 2\n",
    "    N_FS = [N, N]\n",
    "    \n",
    "    F = ffsn((mask_array), T, T_c, N_FS)\n",
    "    f_x = np.reshape(np.arange(-n, n + 1) / T[0], (1, -1))\n",
    "    f_y = np.reshape(np.arange(-n, n + 1) / T[1], (-1, 1))\n",
    "\n",
    "    z = float(z / u.mm)\n",
    "    wavelength = np.array(wavelength / u.mm)\n",
    "\n",
    "    H = np.exp(-1j * np.pi * z * my_matmul(wavelength, (np.power(f_x, 2) + np.power(f_y, 2))))\n",
    "    result_array = (iffsn((F * H), T, T_c, N_FS, axes=[1, 2]))\n",
    "    return np.square(np.absolute(result_array))\n",
    "\n",
    "def compute_atl(mask, T_x, T_y, wl, delta_wl):\n",
    "    grid_size = 500\n",
    "    wl_grid = np.linspace(wl - delta_wl, wl + delta_wl, grid_size)\n",
    "    freq_grid = u.speed_of_light / wl_grid\n",
    "    delta_freq = freq_grid[1] - freq_grid[0]\n",
    "\n",
    "    grid = np.linspace(-2, 2, grid_size)\n",
    "    if GPU:\n",
    "        intens = sps.norm.pdf(grid.get())\n",
    "    else:\n",
    "        intens = sps.norm.pdf(grid)\n",
    "    \n",
    "    z_A = 2 * max(T_x, T_y) ** 2 / delta_wl\n",
    "    carp = compute_carpet(mask, wl_grid, T_x, T_y, 2 * z_A) * delta_freq\n",
    "    return np.average(carp, axis=0, weights=intens)"
   ]
  },
  {
   "attachments": {},
   "cell_type": "markdown",
   "metadata": {},
   "source": [
    "### Удобные функции для визуализации результата"
   ]
  },
  {
   "cell_type": "code",
   "execution_count": 32,
   "metadata": {},
   "outputs": [],
   "source": [
    "def periodic_image(arr, reps):\n",
    "    pic = np.tile(arr, (reps, reps))\n",
    "    return Image.fromarray(pic)\n",
    "\n",
    "def frame_plot(arr, ax):\n",
    "    rectX = np.linspace(0, 1, arr.shape[0])\n",
    "    rectY = np.linspace(0, 1, arr.shape[1])\n",
    "    x, y = np.meshgrid(rectX, rectY)\n",
    "    if GPU:\n",
    "        ax.pcolormesh(x.get(), y.get(), arr.get())\n",
    "    else:\n",
    "        ax.pcolormesh(x, y, arr)\n",
    "\n",
    "def check_dataset(im_num):\n",
    "  sims = np.load('/content/drive/MyDrive/simulations.npy')\n",
    "  masks = np.load('/content/drive/MyDrive/dataset.npy')\n",
    "  fig, ax = plt.subplots(2, im_num, figsize=(im_num * 4, 8))\n",
    "  fig.tight_layout()\n",
    "  index = np.random.randint(0, sims.shape[0], size=im_num)\n",
    "  for i in range(im_num):\n",
    "    frame_plot(sims[index[i]], ax[1, i])\n",
    "    frame_plot(masks[index[i]], ax[0, i])\n",
    "  fig.show()"
   ]
  },
  {
   "attachments": {},
   "cell_type": "markdown",
   "metadata": {},
   "source": [
    "Пробуем функцию"
   ]
  },
  {
   "cell_type": "code",
   "execution_count": null,
   "metadata": {},
   "outputs": [],
   "source": [
    "# mask = Image.open(\"rec.png\").convert(\"L\")\n",
    "wl = 13.5 * u.nm\n",
    "d_wl = 0.04 * wl\n",
    "p = 1 * u.um\n",
    "# result = compute_atl(mask, p, p, wl, d_wl)"
   ]
  },
  {
   "cell_type": "code",
   "execution_count": null,
   "metadata": {},
   "outputs": [],
   "source": [
    "masks = np.load('/content/drive/MyDrive/dataset.npy', allow_pickle=True)\n",
    "pics = []"
   ]
  },
  {
   "cell_type": "code",
   "execution_count": null,
   "metadata": {},
   "outputs": [],
   "source": [
    "for i in range(masks.shape[0] // 2):\n",
    "  pics.append(compute_atl(masks[i], p, p, wl, d_wl).get())"
   ]
  },
  {
   "cell_type": "code",
   "execution_count": null,
   "metadata": {},
   "outputs": [],
   "source": [
    "for i in range(masks.shape[0] // 2, masks.shape[0]):\n",
    "  pics.append(compute_atl(masks[i], p, p, wl, d_wl).get())"
   ]
  },
  {
   "cell_type": "code",
   "execution_count": null,
   "metadata": {},
   "outputs": [],
   "source": [
    "np.save('/content/drive/MyDrive/simulations.npy', pics)"
   ]
  }
 ],
 "metadata": {
  "kernelspec": {
   "display_name": "Python 3",
   "language": "python",
   "name": "python3"
  },
  "language_info": {
   "codemirror_mode": {
    "name": "ipython",
    "version": 3
   },
   "file_extension": ".py",
   "mimetype": "text/x-python",
   "name": "python",
   "nbconvert_exporter": "python",
   "pygments_lexer": "ipython3",
   "version": "3.9.6"
  },
  "orig_nbformat": 4
 },
 "nbformat": 4,
 "nbformat_minor": 2
}
