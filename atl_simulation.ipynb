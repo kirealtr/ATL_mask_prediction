{
  "cells": [
    {
      "attachments": {},
      "cell_type": "markdown",
      "metadata": {
        "id": "rdQ8ab2PhdlX"
      },
      "source": [
        "## Ноутбук с симуляцией ATL"
      ]
    },
    {
      "attachments": {},
      "cell_type": "markdown",
      "metadata": {
        "id": "w0f1hqH9hdla"
      },
      "source": [
        "Если используется GPU, выставить соответствующий флаг"
      ]
    },
    {
      "cell_type": "code",
      "execution_count": 1,
      "metadata": {
        "id": "uwZFCk_Rhdla"
      },
      "outputs": [],
      "source": [
        "GPU = False\n",
        "# GPU = True"
      ]
    },
    {
      "cell_type": "code",
      "execution_count": 3,
      "metadata": {
        "colab": {
          "base_uri": "https://localhost:8080/"
        },
        "id": "ZsupmhJviKfm",
        "outputId": "4dd68ea2-e8d1-4304-ddb0-dbe98e4adf1b"
      },
      "outputs": [
        {
          "name": "stdout",
          "output_type": "stream",
          "text": [
            "Mounted at /content/drive\n"
          ]
        }
      ],
      "source": [
        "from google.colab import drive\n",
        "drive.mount('/content/drive')"
      ]
    },
    {
      "cell_type": "code",
      "execution_count": null,
      "metadata": {
        "id": "FXEFPXEVhdlb"
      },
      "outputs": [],
      "source": [
        "# !pip install pyffs\n",
        "# !pip install pint\n",
        "# !pip install cupy"
      ]
    },
    {
      "attachments": {},
      "cell_type": "markdown",
      "metadata": {
        "id": "EB7QdmlVhdlc"
      },
      "source": [
        "Импорты:"
      ]
    },
    {
      "cell_type": "code",
      "execution_count": 2,
      "metadata": {
        "id": "cvL0ZepUhdlc"
      },
      "outputs": [],
      "source": [
        "if GPU:\n",
        "    import cupy as np\n",
        "else:\n",
        "    import numpy as np\n",
        "    \n",
        "import matplotlib.pyplot as plt\n",
        "import scipy.stats as sps\n",
        "\n",
        "from PIL import Image\n",
        "from pyffs import ffsn, iffsn\n",
        "\n",
        "import pint\n",
        "u = pint.UnitRegistry()\n",
        "MAX_INTENS = 256"
      ]
    },
    {
      "attachments": {},
      "cell_type": "markdown",
      "metadata": {
        "id": "p_oicwoqhdlc"
      },
      "source": [
        "### compute_carpet: Функция, считающая картину на определенном расстоянии по фотке маски\n",
        "\n",
        "### compute_ATL: Главная симуляция ATL картины по маске"
      ]
    },
    {
      "cell_type": "code",
      "execution_count": 3,
      "metadata": {
        "id": "dR2RsiSvhdld"
      },
      "outputs": [],
      "source": [
        "def my_matmul(a, m):\n",
        "    if np.isscalar(a):\n",
        "        return a * m\n",
        "    else:\n",
        "        return np.outer(a, m).reshape(len(a), m.shape[0], m.shape[1])\n",
        "    \n",
        "def compute_carpet(mask, wavelength, T_x, T_y, z):\n",
        "    '''\n",
        "    Функция для вычисления ковра Талбота\n",
        "    param mask: изображение маски,\n",
        "    param wavelength: длина волны [мм],\n",
        "    param T_x: период маски по оси x [мм],\n",
        "    param T_y: период маски по оси y [мм],\n",
        "    param z: расстояние от картины до маски [мм]\n",
        "\n",
        "    return: изображение картины\n",
        "    '''\n",
        "\n",
        "    mask_array = np.sqrt(np.array(mask))\n",
        "    \n",
        "    N = mask_array.shape[0]\n",
        "    n = (N - 1) // 2\n",
        "\n",
        "    T = np.array([T_x, T_y])\n",
        "    # T = np.array([float(T_x / u.mm), float(T_y / u.mm)])\n",
        "    T_c = T / 2\n",
        "    N_FS = [N, N]\n",
        "    \n",
        "    F = ffsn((mask_array), T, T_c, N_FS)\n",
        "    f_x = np.reshape(np.arange(-n, n + 1) / T[0], (1, -1))\n",
        "    f_y = np.reshape(np.arange(-n, n + 1) / T[1], (-1, 1))\n",
        "\n",
        "    # z = float(z / u.mm)\n",
        "    # wavelength = np.array(wavelength / u.mm)\n",
        "\n",
        "    H = np.exp(-1j * np.pi * z * my_matmul(wavelength, (np.power(f_x, 2) + np.power(f_y, 2))))\n",
        "    result_array = (iffsn((F * H), T, T_c, N_FS, axes=[1, 2]))\n",
        "    return np.square(np.absolute(result_array))\n",
        "\n",
        "def compute_atl(mask, T_x = 0.001, T_y = 0.001, wl = 1.35e-5, rel_delta_wl = 0.04):\n",
        "    '''\n",
        "    Функция для вычисления дифракционной картины ATL\n",
        "    param mask: изображение маски,\n",
        "    param T_x: период маски по оси x [мм],\n",
        "    param T_y: период маски по оси y [мм],\n",
        "    param wl: длина волны [мм],\n",
        "    param rel_delta_wl: относительная немонохроматичность [мм]\n",
        "\n",
        "    return: изображение картины\n",
        "    '''\n",
        "\n",
        "    grid_size = 500\n",
        "    c = 299792458e3 # speed of light in mm/s\n",
        "    freq = c / wl\n",
        "    delta_freq = freq * rel_delta_wl\n",
        "    freq_grid = np.linspace(freq - delta_freq, freq + delta_freq, grid_size)\n",
        "\n",
        "    grid = np.linspace(-2, 2, grid_size)\n",
        "    if GPU:\n",
        "        intens = sps.norm.pdf(grid.get())\n",
        "    else:\n",
        "        intens = sps.norm.pdf(grid)\n",
        "    \n",
        "    z_A = 2 * max(T_x, T_y) ** 2 / (rel_delta_wl * wl)\n",
        "    carp = compute_carpet(mask, (c / freq_grid), T_x, T_y, 2 * z_A)\n",
        "    return np.average(carp, axis=0, weights=intens).astype(np.float16)\n",
        "\n",
        "def reduce_period(pic):\n",
        "    period = 1\n",
        "    wavelength = np.array([0.1])\n",
        "    z = 10\n",
        "    return (np.clip(compute_carpet(pic, wavelength, period, period, z)[0] + pic, 0, 255)).astype(np.uint8)\n",
        "    # res[res > 255] = 255\n",
        "    # return res.astype(np.uint8)"
      ]
    },
    {
      "attachments": {},
      "cell_type": "markdown",
      "metadata": {
        "id": "PsANjhTUhdle"
      },
      "source": [
        "### Удобные функции для визуализации результата"
      ]
    },
    {
      "cell_type": "code",
      "execution_count": 16,
      "metadata": {
        "id": "WeShMVJ4hdle"
      },
      "outputs": [],
      "source": [
        "def periodic_image(arr, reps):\n",
        "    pic = np.tile(arr, (reps, reps))\n",
        "    return Image.fromarray(pic)\n",
        "\n",
        "def frame_plot(arr, ax):\n",
        "    rectX = np.linspace(0, 1, arr.shape[0])\n",
        "    rectY = np.linspace(0, 1, arr.shape[1])\n",
        "    x, y = np.meshgrid(rectX, rectY)\n",
        "    if GPU:\n",
        "        ax.pcolormesh(x.get(), y.get(), arr.get())\n",
        "    else:\n",
        "        ax.pcolormesh(x, y, arr)\n",
        "\n",
        "def check_dataset(im_num):\n",
        "  sims = np.load('/content/drive/MyDrive/simulations.npy')\n",
        "  masks = np.load('/content/drive/MyDrive/dataset.npy')\n",
        "  fig, ax = plt.subplots(2, im_num, figsize=(im_num * 4, 8))\n",
        "  fig.tight_layout()\n",
        "  index = np.random.randint(0, sims.shape[0], size=im_num)\n",
        "  for i in range(im_num):\n",
        "    frame_plot(sims[index[i]], ax[1, i])\n",
        "    frame_plot(masks[index[i]], ax[0, i])\n",
        "  fig.show()"
      ]
    },
    {
      "cell_type": "code",
      "execution_count": 13,
      "metadata": {},
      "outputs": [],
      "source": [
        "pic = np.array(Image.open(\"image/rec.png\").convert(\"L\"))\n",
        "mean = np.max(pic) / 2 + np.min(pic) / 2\n",
        "pic = np.where(reduce_period(np.where(pic > mean, 255, 0)) > mean, 255, 0)\n",
        "im = Image.fromarray(pic).convert('L')\n",
        "im.save('image/rect.png')\n",
        "# im.show()"
      ]
    },
    {
      "cell_type": "code",
      "execution_count": 5,
      "metadata": {},
      "outputs": [],
      "source": [
        "mask = np.array(Image.open(\"image/lines.png\").convert(\"L\"))\n",
        "\n",
        "pic = Image.fromarray(reduce_period(mask)).convert('L')\n",
        "# pic.save('image/lines.png')\n",
        "pic.show()"
      ]
    },
    {
      "attachments": {},
      "cell_type": "markdown",
      "metadata": {},
      "source": [
        "Задаем параметры и переводим в миллиметры"
      ]
    },
    {
      "cell_type": "code",
      "execution_count": 20,
      "metadata": {
        "id": "8vtgx-voxgSP"
      },
      "outputs": [],
      "source": [
        "wl = 13.5 * u.nm\n",
        "rel_delta_wl = 0.04\n",
        "p = 1 * u.um\n",
        "\n",
        "wl = float(wl / u.mm)\n",
        "# delta_wl = float(delta_wl / u.mm)\n",
        "p = float(p / u.mm)"
      ]
    },
    {
      "attachments": {},
      "cell_type": "markdown",
      "metadata": {
        "id": "zyTuY8pQhdle"
      },
      "source": [
        "Загружаем маску и считаем результат"
      ]
    },
    {
      "cell_type": "code",
      "execution_count": 57,
      "metadata": {
        "id": "ypD5B895hdlf"
      },
      "outputs": [],
      "source": [
        "mask = np.array(Image.open(\"image/im10.png\").convert(\"L\"))\n",
        "\n",
        "result = compute_atl(mask, p, p, wl, rel_delta_wl)"
      ]
    },
    {
      "attachments": {},
      "cell_type": "markdown",
      "metadata": {},
      "source": [
        "Проверяем"
      ]
    },
    {
      "cell_type": "code",
      "execution_count": null,
      "metadata": {
        "id": "0jXnbv4Qhdlf"
      },
      "outputs": [],
      "source": [
        "fig, ax = plt.subplots(1, 2, figsize=(14, 7))\n",
        "frame_plot(np.array(mask), ax=ax[0])\n",
        "frame_plot(result, ax=ax[1])"
      ]
    },
    {
      "cell_type": "code",
      "execution_count": null,
      "metadata": {
        "id": "do-U8FF_hdlg"
      },
      "outputs": [],
      "source": [
        "masks = np.load('/content/drive/MyDrive/dataset.npy', allow_pickle=True)\n",
        "pics = []"
      ]
    },
    {
      "cell_type": "code",
      "execution_count": null,
      "metadata": {
        "id": "XCChPlHehdlg"
      },
      "outputs": [],
      "source": [
        "for i in range(masks.shape[0]):\n",
        "  # pics.append(compute_atl(masks[i], p, p, wl, rel_delta_wl).get())\n",
        "  rp = reduce_period(masks[i]).get()\n",
        "  if np.sum(rp > 128) / (513 * 513) < 0.6:\n",
        "    pics.append(rp)"
      ]
    },
    {
      "cell_type": "code",
      "execution_count": null,
      "metadata": {
        "id": "R14k4GnQhdlg"
      },
      "outputs": [],
      "source": [
        "# np.save('/content/drive/MyDrive/simulations.npy', pics)\n",
        "np.save('/content/drive/MyDrive/sim_pattern.npy', pics)"
      ]
    }
  ],
  "metadata": {
    "colab": {
      "gpuType": "T4",
      "provenance": []
    },
    "gpuClass": "standard",
    "kernelspec": {
      "display_name": "Python 3",
      "language": "python",
      "name": "python3"
    },
    "language_info": {
      "codemirror_mode": {
        "name": "ipython",
        "version": 3
      },
      "file_extension": ".py",
      "mimetype": "text/x-python",
      "name": "python",
      "nbconvert_exporter": "python",
      "pygments_lexer": "ipython3",
      "version": "3.9.6"
    },
    "orig_nbformat": 4
  },
  "nbformat": 4,
  "nbformat_minor": 0
}
