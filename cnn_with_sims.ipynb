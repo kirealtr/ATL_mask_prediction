{
  "cells": [
    {
      "attachments": {},
      "cell_type": "markdown",
      "metadata": {
        "id": "ASS0Ek_KnUf1"
      },
      "source": [
        "# Ноутбук с нейронкой для предсказаний"
      ]
    },
    {
      "attachments": {},
      "cell_type": "markdown",
      "metadata": {
        "id": "MEdpLvwyqwzD"
      },
      "source": [
        "## Подготовка данных\n",
        "\n",
        "Импортируем"
      ]
    },
    {
      "cell_type": "code",
      "execution_count": null,
      "metadata": {
        "id": "N4ro2dfIGAqe"
      },
      "outputs": [],
      "source": [
        "!pip install pyffs\n",
        "!pip install cupy"
      ]
    },
    {
      "cell_type": "code",
      "execution_count": 2,
      "metadata": {
        "id": "zMVlxZ1FDOWO"
      },
      "outputs": [],
      "source": [
        "import numpy as np\n",
        "import matplotlib.pyplot as plt\n",
        "\n",
        "import torch\n",
        "import torchvision\n",
        "\n",
        "from tqdm import tqdm\n",
        "from copy import deepcopy\n",
        "from timeit import default_timer\n",
        "from sklearn.model_selection import train_test_split\n",
        "from sklearn.metrics import ConfusionMatrixDisplay, confusion_matrix, log_loss\n",
        "from sklearn.metrics import RocCurveDisplay, roc_curve, auc\n",
        "\n",
        "\n",
        "import torch.nn as nn\n",
        "import torch.nn.functional as F\n",
        "\n",
        "from torchsummary import summary\n",
        "from torch.utils.data import DataLoader\n",
        "from torch.utils.data import TensorDataset\n",
        "from torch.utils.data import random_split\n",
        "\n",
        "import gc\n",
        "from PIL import Image\n",
        "from pyffs import ffsn, iffsn\n",
        "import cupy as cp\n",
        "import scipy.stats as sps"
      ]
    },
    {
      "attachments": {},
      "cell_type": "markdown",
      "metadata": {
        "id": "U_ogwF0VnlFV"
      },
      "source": [
        "Подключаем Google диск"
      ]
    },
    {
      "cell_type": "code",
      "execution_count": 3,
      "metadata": {
        "colab": {
          "base_uri": "https://localhost:8080/"
        },
        "id": "ryEQvsOmDtPi",
        "outputId": "71599b54-4d03-424e-f0e7-224a6f5fdd8d"
      },
      "outputs": [
        {
          "name": "stdout",
          "output_type": "stream",
          "text": [
            "Mounted at /content/drive\n"
          ]
        }
      ],
      "source": [
        "from google.colab import drive\n",
        "drive.mount('/content/drive')"
      ]
    },
    {
      "attachments": {},
      "cell_type": "markdown",
      "metadata": {
        "id": "CowNDGVCnpy0"
      },
      "source": [
        "Загружаем данные: бинарные маски и симуляции дифракции по ним"
      ]
    },
    {
      "cell_type": "code",
      "execution_count": 4,
      "metadata": {
        "id": "5tlhq0WdD1C5"
      },
      "outputs": [],
      "source": [
        "sim_pattern = np.load('/content/drive/MyDrive/sim_pattern.npy', allow_pickle=True) / 8\n",
        "simulations = np.load('/content/drive/MyDrive/simulations.npy', allow_pickle=True)\n",
        "dataset = np.load('/content/drive/MyDrive/dataset.npy', allow_pickle=True)"
      ]
    },
    {
      "attachments": {},
      "cell_type": "markdown",
      "metadata": {
        "id": "PuHUAv7dL9rO"
      },
      "source": [
        "Для работы с полным датасетом не хватает вычислительной мощности. Поэтому отрезаем от него часть."
      ]
    },
    {
      "cell_type": "code",
      "execution_count": 16,
      "metadata": {
        "id": "ilxJOOggDOWR"
      },
      "outputs": [],
      "source": [
        "device = torch.device('cuda')\n",
        "\n",
        "N_start = 0\n",
        "N_end = simulations.shape[0]\n",
        "data_step = 2\n",
        "X = torch.from_numpy(simulations[N_start:N_end:data_step].reshape(-1, 1, 513, 513)).half().to(device)\n",
        "y = torch.from_numpy(dataset[N_start:N_end:data_step].reshape(-1, 1, 513, 513)).half().to(device)\n",
        "Z = torch.from_numpy(sim_pattern[:500].reshape(-1, 1, 513, 513)).half().to(device)"
      ]
    },
    {
      "attachments": {},
      "cell_type": "markdown",
      "metadata": {
        "id": "BUN0JH58oJth"
      },
      "source": [
        "Освобождаем память"
      ]
    },
    {
      "cell_type": "code",
      "execution_count": null,
      "metadata": {
        "id": "3_eEXMLP1tyZ"
      },
      "outputs": [],
      "source": [
        "del data"
      ]
    },
    {
      "attachments": {},
      "cell_type": "markdown",
      "metadata": {
        "id": "NAXv6HEeoRCI"
      },
      "source": [
        "Делим данные на обучение, валидацию и тест"
      ]
    },
    {
      "cell_type": "code",
      "execution_count": 17,
      "metadata": {
        "id": "b7v2E5ZUa3kn"
      },
      "outputs": [],
      "source": [
        "bs = 5\n",
        "\n",
        "Z_val, Z_test = train_test_split(Z, test_size=0.5, random_state=42)\n",
        "# X_train, X_val = train_test_split(X_train_val, test_size=0.1, random_state=42)\n",
        "\n",
        "train_data = TensorDataset(X, y)\n",
        "val_data = TensorDataset(Z_val)\n",
        "test_data = TensorDataset(Z_test)\n",
        "\n",
        "train_loader = DataLoader(train_data, batch_size=bs)\n",
        "val_loader = DataLoader(val_data, batch_size=bs)\n",
        "test_loader = DataLoader(test_data, batch_size=bs)\n",
        "\n",
        "scaler = torch.cuda.amp.GradScaler()"
      ]
    },
    {
      "attachments": {},
      "cell_type": "markdown",
      "metadata": {
        "id": "NGQV17j7GtJt"
      },
      "source": [
        "## Симуляция ATL\n",
        "\n",
        "Функции из ноутбука atl_simulation.ipynb"
      ]
    },
    {
      "cell_type": "code",
      "execution_count": 12,
      "metadata": {
        "id": "x3h1BXmyG3f_"
      },
      "outputs": [],
      "source": [
        "def my_matmul(a, m):\n",
        "    if np.isscalar(a):\n",
        "        return a * m\n",
        "    else:\n",
        "        return np.outer(a, m).reshape(len(a), m.shape[0], m.shape[1])\n",
        "    \n",
        "def compute_carpet(mask, wavelength, T_x, T_y, z):\n",
        "    '''\n",
        "    Функция для вычисления ковра Талбота\n",
        "    param mask: изображение маски,\n",
        "    param wavelength: длина волны [мм],\n",
        "    param T_x: период маски по оси x [мм],\n",
        "    param T_y: период маски по оси y [мм],\n",
        "    param z: расстояние от картины до маски [мм]\n",
        "\n",
        "    return: изображение картины\n",
        "    '''\n",
        "\n",
        "    mask_array = cp.sqrt(mask)\n",
        "    \n",
        "    N = mask_array.shape[0]\n",
        "    n = (N - 1) // 2\n",
        "\n",
        "    T = cp.array([T_x, T_y])\n",
        "    T_c = T / 2\n",
        "    N_FS = [N, N]\n",
        "    \n",
        "    F = ffsn((mask_array), T, T_c, N_FS)\n",
        "    f_x = cp.reshape(cp.arange(-n, n + 1) / T[0], (1, -1))\n",
        "    f_y = cp.reshape(cp.arange(-n, n + 1) / T[1], (-1, 1))\n",
        "\n",
        "    H = cp.exp(-1j * cp.pi * z * my_matmul(wavelength, (cp.power(f_x, 2) + cp.power(f_y, 2))))\n",
        "    result_array = (iffsn((F * H), T, T_c, N_FS, axes=[1, 2]))\n",
        "    return cp.square(cp.absolute(result_array))\n",
        "\n",
        "def compute_atl(mask, T_x = 0.001, T_y = 0.001, wl = 1.35e-5, rel_delta_wl = 0.04):\n",
        "    '''\n",
        "    Функция для вычисления дифракционной картины ATL\n",
        "    param mask: изображение маски,\n",
        "    param T_x: период маски по оси x [мм],\n",
        "    param T_y: период маски по оси y [мм],\n",
        "    param wl: длина волны [мм],\n",
        "    param rel_delta_wl: относительная немонохроматичность [мм]\n",
        "\n",
        "    return: изображение картины\n",
        "    '''\n",
        "\n",
        "    grid_size = 500\n",
        "    c = 299792458e3 # speed of light in mm/s\n",
        "    freq = c / wl\n",
        "    delta_freq = freq * rel_delta_wl\n",
        "    freq_grid = cp.linspace(freq - delta_freq, freq + delta_freq, grid_size)\n",
        "\n",
        "    grid = cp.linspace(-2, 2, grid_size)\n",
        "    intens = sps.norm.pdf(grid.get())\n",
        "    \n",
        "    z_A = 2 * max(T_x, T_y) ** 2 / (rel_delta_wl * wl)\n",
        "    carp = compute_carpet(mask, (c / freq_grid), T_x, T_y, 2 * z_A)\n",
        "    return cp.average(carp, axis=0, weights=intens).astype(cp.float16)\n",
        "\n",
        "def compute_atl_4tensor(X):\n",
        "    masks = cp.asarray(X.clone().detach(), dtype=cp.uint8).reshape(-1, 513, 513)\n",
        "    pics = []\n",
        "    for i in range(masks.shape[0]):\n",
        "        pics.append(compute_atl(masks[i]).get())\n",
        "    return torch.tensor(np.array(pics).reshape(-1, 1, 513, 513), requires_grad=True).half().to(device)\n"
      ]
    },
    {
      "attachments": {},
      "cell_type": "markdown",
      "metadata": {
        "id": "tFlvt8VhobLi"
      },
      "source": [
        "## Обучение модели\n",
        "\n",
        "Функция, которая обучает модель"
      ]
    },
    {
      "cell_type": "code",
      "execution_count": 8,
      "metadata": {
        "id": "QIYCjpBUDOWS"
      },
      "outputs": [],
      "source": [
        "def train(model, criterion, optimizer, X, n_epochs, n_stop=10):\n",
        "    min_val_loss = np.inf\n",
        "    f = 0\n",
        "    for epoch in range(n_epochs):\n",
        "        model.train()\n",
        "        for batch in train_loader:\n",
        "            optimizer.zero_grad()\n",
        "            _X, _y = batch\n",
        "            _X, _y = _X.to(device), _y.to(device)\n",
        "          \n",
        "            with torch.amp.autocast(device_type='cuda', dtype=torch.float16):\n",
        "                _y_pred = model(_X)\n",
        "                loss = criterion(_y_pred, _y)\n",
        "            scaler.scale(loss).backward()\n",
        "            scaler.step(optimizer)\n",
        "            scaler.update()\n",
        "\n",
        "        model.eval()\n",
        "        mean_val_loss = 0\n",
        "        batch_count = 0\n",
        "        for batch in val_loader:\n",
        "            _X = batch[0].to(device)\n",
        "            with torch.amp.autocast(device_type='cuda', dtype=torch.float16):\n",
        "                _y_pred = model(_X)\n",
        "                _X_sim = compute_atl_4tensor(_y_pred)\n",
        "                loss = criterion(_X, _X_sim)\n",
        "            mean_val_loss += loss.item()\n",
        "            batch_count += 1\n",
        "\n",
        "        mean_val_loss /= batch_count\n",
        "\n",
        "        if epoch % 10 == 0:\n",
        "            print(f'Epoch: {epoch}, \\tValidation loss: {(mean_val_loss)}')\n",
        "\n",
        "        if round(mean_val_loss, 3) >= min_val_loss:\n",
        "            f = f + 1\n",
        "        else:\n",
        "            f = 0\n",
        "            best_model = deepcopy(model)\n",
        "            min_val_loss = round(mean_val_loss, 3)\n",
        "        if f >= n_stop:\n",
        "            print(f'epoch: {epoch}, val loss did not decrease for {f} epoch(s)')\n",
        "            break\n",
        "\n",
        "    return best_model #, train_loss, val_loss"
      ]
    },
    {
      "attachments": {},
      "cell_type": "markdown",
      "metadata": {
        "id": "goE4hKewogLT"
      },
      "source": [
        "Функция для подсчета ошибки на тесте"
      ]
    },
    {
      "cell_type": "code",
      "execution_count": 9,
      "metadata": {
        "id": "5SHbsO-cf44c"
      },
      "outputs": [],
      "source": [
        "def test_loss(model, criterion):\n",
        "  mean_loss = 0\n",
        "  batch_count = 0\n",
        "  for batch in test_loader:\n",
        "    with torch.no_grad():\n",
        "      _X = batch[0].cpu().float()\n",
        "      # with torch.amp.autocast(device_type='cuda', dtype=torch.float16):\n",
        "      model.cpu()\n",
        "      _y_pred = model(_X)\n",
        "      _X_sim = compute_atl_4tensor(_y_pred).cpu()\n",
        "      loss = criterion(_X, _X_sim)\n",
        "      mean_loss += loss.item()\n",
        "      batch_count += 1\n",
        "    \n",
        "  return mean_loss / batch_count"
      ]
    },
    {
      "attachments": {},
      "cell_type": "markdown",
      "metadata": {
        "id": "eK0-splEolqb"
      },
      "source": [
        "Два варианта модели CNN"
      ]
    },
    {
      "cell_type": "code",
      "execution_count": null,
      "metadata": {
        "id": "_xPFXBEUHfPo"
      },
      "outputs": [],
      "source": [
        "# Define the CNN architecture\n",
        "ch_b = 4\n",
        "class CNN1(torch.nn.Module):\n",
        "  def __init__(self):\n",
        "    super(CNN1, self).__init__()\n",
        "    self.conv1 = torch.nn.Conv2d(1, ch_b, kernel_size=3, padding=2, dilation=2) # 513\n",
        "    self.pool1 = torch.nn.MaxPool2d(kernel_size=2)                # 256\n",
        "    self.conv2 = torch.nn.Conv2d(ch_b, ch_b * 2, kernel_size=3, padding=2, dilation=2) # 256\n",
        "    self.pool2 = torch.nn.MaxPool2d(kernel_size=2)                # 128\n",
        "    self.fc1 = torch.nn.Linear(ch_b * 2 * 128 * 128, 128)\n",
        "    self.fc2 = torch.nn.Linear(128, 513 * 513)\n",
        "\n",
        "  def forward(self, x):\n",
        "    x = self.conv1(x)\n",
        "    x = torch.relu(x)\n",
        "    x = self.pool1(x)\n",
        "    x = self.conv2(x)\n",
        "    x = torch.relu(x)\n",
        "    x = self.pool2(x)\n",
        "    x = x.view(-1, ch_b * 2 * 128 * 128)\n",
        "    x = self.fc1(x)\n",
        "    x = torch.relu(x)\n",
        "    x = self.fc2(x)\n",
        "    x = torch.relu(x)\n",
        "    return x.view(-1, 1, 513, 513)"
      ]
    },
    {
      "cell_type": "code",
      "execution_count": 14,
      "metadata": {
        "id": "YsfbqKVRGVOp"
      },
      "outputs": [],
      "source": [
        "# Define the CNN architecture\n",
        "ch_b = 4\n",
        "class CNN2(torch.nn.Module):\n",
        "  def __init__(self):\n",
        "    super(CNN2, self).__init__()\n",
        "    self.conv1 = torch.nn.Conv2d(1, ch_b, kernel_size=6, padding=5, dilation=2) # 513\n",
        "    self.pool1 = torch.nn.MaxPool2d(kernel_size=2)                # 256\n",
        "    self.conv2 = torch.nn.Conv2d(ch_b, ch_b*2, kernel_size=6, padding=5, dilation=2) # 256\n",
        "    self.pool2 = torch.nn.MaxPool2d(kernel_size=2)                # 128\n",
        "    self.fc1 = torch.nn.Linear(ch_b * 2 * 128 * 128, 128)\n",
        "    self.fc2 = torch.nn.Linear(128, 513 * 513)\n",
        "\n",
        "  def forward(self, x):\n",
        "    x = self.conv1(x)\n",
        "    x = torch.relu(x)\n",
        "    x = self.pool1(x)\n",
        "    x = self.conv2(x)\n",
        "    x = torch.relu(x)\n",
        "    x = self.pool2(x)\n",
        "    x = x.view(-1, ch_b * 2 * 128 * 128)\n",
        "    x = self.fc1(x)\n",
        "    x = torch.relu(x)\n",
        "    x = self.fc2(x)\n",
        "    x = torch.relu(x)\n",
        "    return x.view(-1, 1, 513, 513)"
      ]
    },
    {
      "attachments": {},
      "cell_type": "markdown",
      "metadata": {
        "id": "2EDkuZfGopLp"
      },
      "source": [
        "В этой ячейке можно проверить работу слоя"
      ]
    },
    {
      "cell_type": "code",
      "execution_count": null,
      "metadata": {
        "colab": {
          "base_uri": "https://localhost:8080/"
        },
        "id": "pVpGHy4aKH4R",
        "outputId": "8ae03057-3017-4686-fd0a-57f348f514c8"
      },
      "outputs": [
        {
          "data": {
            "text/plain": [
              "torch.Size([1, 128, 128])"
            ]
          },
          "execution_count": 13,
          "metadata": {},
          "output_type": "execute_result"
        }
      ],
      "source": [
        "# m = nn.MaxPool2d(kernel_size=4)\n",
        "m = torch.nn.Conv2d(1, 1, kernel_size=3, padding=2, dilation=2, stride=2)\n",
        "s = 256\n",
        "input = torch.randn(1, s, s)\n",
        "output = m(input)\n",
        "output.size()"
      ]
    },
    {
      "attachments": {},
      "cell_type": "markdown",
      "metadata": {
        "id": "mXBl2lhjo2nm"
      },
      "source": [
        "Обучаем модель"
      ]
    },
    {
      "cell_type": "code",
      "execution_count": 18,
      "metadata": {
        "colab": {
          "base_uri": "https://localhost:8080/"
        },
        "id": "Qv-2uW3CDOWT",
        "outputId": "66240221-2480-4ee4-b8e9-ea925fe6c781"
      },
      "outputs": [
        {
          "name": "stdout",
          "output_type": "stream",
          "text": [
            "Epoch: 0, \tValidation loss: 276.046875\n",
            "Epoch: 10, \tValidation loss: 276.046875\n",
            "epoch: 10, val loss did not decrease for 10 epoch(s)\n"
          ]
        }
      ],
      "source": [
        "# Instantiate the CNN\n",
        "model = CNN2().to(device)\n",
        "model.cuda()\n",
        "\n",
        "# Define the loss function and optimizer\n",
        "criterion = torch.nn.MSELoss()\n",
        "optimizer = torch.optim.Adam(model.parameters(), lr=0.005)\n",
        "\n",
        "# with torch.autograd.detect_anomaly(check_nan=True):\n",
        "model = train(model, criterion, optimizer, X, n_epochs=50, n_stop=10)"
      ]
    },
    {
      "attachments": {},
      "cell_type": "markdown",
      "metadata": {
        "id": "22yDeFVppegA"
      },
      "source": [
        "Можно загрузить уже обученную модель"
      ]
    },
    {
      "cell_type": "code",
      "execution_count": null,
      "metadata": {
        "id": "SZcuPTAMkisE"
      },
      "outputs": [],
      "source": [
        "model = torch.load('/content/drive/MyDrive/models/model2', map_location=torch.device('cpu')).to(device)\n",
        "# model.cuda()"
      ]
    },
    {
      "attachments": {},
      "cell_type": "markdown",
      "metadata": {
        "id": "UTfG9_tApi2N"
      },
      "source": [
        "Считаем ошибку на тесте"
      ]
    },
    {
      "cell_type": "code",
      "execution_count": null,
      "metadata": {
        "colab": {
          "base_uri": "https://localhost:8080/"
        },
        "id": "YHAD2WTeDOWT",
        "outputId": "b426e05b-40bb-4840-c75f-96bac653e00e"
      },
      "outputs": [
        {
          "name": "stdout",
          "output_type": "stream",
          "text": [
            "Test loss: 4123.008231026785\n"
          ]
        }
      ],
      "source": [
        "criterion = torch.nn.MSELoss()\n",
        "print(f'Test loss: {test_loss(model, criterion)}')"
      ]
    },
    {
      "attachments": {},
      "cell_type": "markdown",
      "metadata": {
        "id": "XAtk-MkBpmUP"
      },
      "source": [
        "Сохраняем модель, если понравилась"
      ]
    },
    {
      "cell_type": "code",
      "execution_count": null,
      "metadata": {
        "id": "L7eZYBV3kEAW"
      },
      "outputs": [],
      "source": [
        "torch.save(model, '/content/drive/MyDrive/models/model4123')"
      ]
    },
    {
      "attachments": {},
      "cell_type": "markdown",
      "metadata": {
        "id": "eljBWfuDpsId"
      },
      "source": [
        "## Проверка модели на практике\n",
        "\n",
        "Следующие ячейки нужны для предсказания маски для какой-то конкретной картинки. Это предсказание можно сохранить, сделать по нему симуляцию и сравнить ее с исходной картинкой. "
      ]
    },
    {
      "cell_type": "code",
      "execution_count": null,
      "metadata": {
        "id": "l1lE0JVsCMkh"
      },
      "outputs": [],
      "source": [
        "circle_np = np.array(Image.open('/content/drive/MyDrive/prediction_test/cooler_im10.png').convert(\"L\")) / 64\n",
        "# circle_np = np.load('/content/drive/MyDrive/dif/sim18.npy')\n",
        "circle =  torch.from_numpy(circle_np.reshape(1, 513, 513)).half().to(device)\n",
        "model.cuda()\n",
        "with torch.amp.autocast(device_type='cuda', dtype=torch.float16):\n",
        "  circle_pred = model(circle)"
      ]
    },
    {
      "cell_type": "code",
      "execution_count": null,
      "metadata": {
        "id": "AvxmnG3uEDxj"
      },
      "outputs": [],
      "source": [
        "def frame_plot(arr, ax):\n",
        "  rectX = np.linspace(0, 1, arr.shape[0])\n",
        "  rectY = np.linspace(0, 1, arr.shape[1])\n",
        "  x, y = np.meshgrid(rectX, rectY)\n",
        "  ax.pcolormesh(x, y, arr)"
      ]
    },
    {
      "cell_type": "code",
      "execution_count": null,
      "metadata": {
        "id": "_KrkGfEwFkgD"
      },
      "outputs": [],
      "source": [
        "circle_pred_np = circle_pred.cpu().detach().numpy().reshape(513, 513)"
      ]
    },
    {
      "cell_type": "code",
      "execution_count": null,
      "metadata": {
        "id": "YP0rBwFYDY7b"
      },
      "outputs": [],
      "source": [
        "fig, ax = plt.subplots(1, 2, figsize=(16, 8))\n",
        "frame_plot(circle_pred_np, ax=ax[0])\n",
        "frame_plot(circle_np, ax=ax[1])"
      ]
    },
    {
      "cell_type": "code",
      "execution_count": null,
      "metadata": {
        "colab": {
          "base_uri": "https://localhost:8080/"
        },
        "id": "5XdD3JQNGqHr",
        "outputId": "684259d2-22d2-453b-cc11-7fe24c5be2b7"
      },
      "outputs": [
        {
          "data": {
            "text/plain": [
              "74.3"
            ]
          },
          "execution_count": 40,
          "metadata": {},
          "output_type": "execute_result"
        }
      ],
      "source": [
        "circle_pred_np[256][256]"
      ]
    },
    {
      "cell_type": "code",
      "execution_count": null,
      "metadata": {
        "id": "OtktlWJOF0iG"
      },
      "outputs": [],
      "source": [
        "circle_im = Image.fromarray(circle_pred_np.astype(np.uint8))\n",
        "circle_im = circle_im.convert('L')\n",
        "circle_im.show()\n",
        "circle_im.save('/content/drive/MyDrive/prediction_test/circle_pred.png')"
      ]
    }
  ],
  "metadata": {
    "accelerator": "GPU",
    "colab": {
      "gpuType": "T4",
      "provenance": []
    },
    "gpuClass": "standard",
    "kernelspec": {
      "display_name": "Python 3",
      "language": "python",
      "name": "python3"
    },
    "language_info": {
      "codemirror_mode": {
        "name": "ipython",
        "version": 3
      },
      "file_extension": ".py",
      "mimetype": "text/x-python",
      "name": "python",
      "nbconvert_exporter": "python",
      "pygments_lexer": "ipython3",
      "version": "3.9.6"
    },
    "orig_nbformat": 4
  },
  "nbformat": 4,
  "nbformat_minor": 0
}
