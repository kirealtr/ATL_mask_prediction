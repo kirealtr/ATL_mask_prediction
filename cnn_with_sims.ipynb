{
  "cells": [
    {
      "cell_type": "markdown",
      "source": [
        "# Ноутбук с нейронкой для предсказаний"
      ],
      "metadata": {
        "id": "ASS0Ek_KnUf1"
      }
    },
    {
      "cell_type": "markdown",
      "source": [
        "## Подготовка данных\n",
        "\n",
        "Импортируем"
      ],
      "metadata": {
        "id": "MEdpLvwyqwzD"
      }
    },
    {
      "cell_type": "code",
      "source": [
        "!pip install pyffs\n",
        "!pip install cupy"
      ],
      "metadata": {
        "id": "N4ro2dfIGAqe"
      },
      "execution_count": 1,
      "outputs": []
    },
    {
      "cell_type": "code",
      "execution_count": 1,
      "metadata": {
        "id": "zMVlxZ1FDOWO"
      },
      "outputs": [],
      "source": [
        "import numpy as np\n",
        "import matplotlib.pyplot as plt\n",
        "\n",
        "import torch\n",
        "import torchvision\n",
        "\n",
        "from tqdm import tqdm\n",
        "from copy import deepcopy\n",
        "from timeit import default_timer\n",
        "from sklearn.model_selection import train_test_split\n",
        "from sklearn.metrics import ConfusionMatrixDisplay, confusion_matrix, log_loss\n",
        "from sklearn.metrics import RocCurveDisplay, roc_curve, auc\n",
        "\n",
        "\n",
        "import torch.nn as nn\n",
        "import torch.nn.functional as F\n",
        "\n",
        "from torchsummary import summary\n",
        "from torch.utils.data import DataLoader\n",
        "from torch.utils.data import TensorDataset\n",
        "from torch.utils.data import random_split\n",
        "\n",
        "import gc\n",
        "from PIL import Image\n",
        "from pyffs import ffsn, iffsn\n",
        "import cupy as cp\n",
        "import scipy.stats as sps"
      ]
    },
    {
      "cell_type": "markdown",
      "source": [
        "Подключаем Google диск"
      ],
      "metadata": {
        "id": "U_ogwF0VnlFV"
      }
    },
    {
      "cell_type": "code",
      "source": [
        "from google.colab import drive\n",
        "drive.mount('/content/drive')"
      ],
      "metadata": {
        "id": "ryEQvsOmDtPi",
        "outputId": "340c46fa-d43b-495a-d0d7-4f8a4235620d",
        "colab": {
          "base_uri": "https://localhost:8080/"
        }
      },
      "execution_count": 3,
      "outputs": [
        {
          "output_type": "stream",
          "name": "stdout",
          "text": [
            "Mounted at /content/drive\n"
          ]
        }
      ]
    },
    {
      "cell_type": "markdown",
      "source": [
        "Загружаем данные: бинарные маски и симуляции дифракции по ним"
      ],
      "metadata": {
        "id": "CowNDGVCnpy0"
      }
    },
    {
      "cell_type": "code",
      "source": [
        "data = np.load('/content/drive/MyDrive/sim_pattern.npy', allow_pickle=True)"
      ],
      "metadata": {
        "id": "5tlhq0WdD1C5"
      },
      "execution_count": 2,
      "outputs": []
    },
    {
      "cell_type": "markdown",
      "source": [
        "Для работы с полным датасетом не хватает вычислительной мощности. Поэтому отрезаем от него часть."
      ],
      "metadata": {
        "id": "PuHUAv7dL9rO"
      }
    },
    {
      "cell_type": "code",
      "execution_count": 3,
      "metadata": {
        "id": "ilxJOOggDOWR"
      },
      "outputs": [],
      "source": [
        "device = torch.device('cuda' if torch.cuda.is_available() else 'cpu')\n",
        "\n",
        "X = torch.from_numpy(data[:1000].reshape(-1, 1, 513, 513)).half().to(device)"
      ]
    },
    {
      "cell_type": "markdown",
      "source": [
        "Освобождаем память"
      ],
      "metadata": {
        "id": "BUN0JH58oJth"
      }
    },
    {
      "cell_type": "code",
      "source": [
        "del data"
      ],
      "metadata": {
        "id": "3_eEXMLP1tyZ"
      },
      "execution_count": null,
      "outputs": []
    },
    {
      "cell_type": "markdown",
      "source": [
        "Делим данные на обучение, валидацию и тест"
      ],
      "metadata": {
        "id": "NAXv6HEeoRCI"
      }
    },
    {
      "cell_type": "code",
      "source": [
        "bs = 5\n",
        "\n",
        "X_train_val, X_test = train_test_split(X, test_size=0.2, random_state=42)\n",
        "X_train, X_val = train_test_split(X_train_val, test_size=0.1, random_state=42)\n",
        "\n",
        "train_data = TensorDataset(X_train)\n",
        "val_data = TensorDataset(X_val)\n",
        "test_data = TensorDataset(X_test)\n",
        "\n",
        "train_loader = DataLoader(train_data, batch_size=bs)\n",
        "val_loader = DataLoader(val_data, batch_size=bs)\n",
        "test_loader = DataLoader(test_data, batch_size=bs)\n",
        "\n",
        "scaler = torch.cuda.amp.GradScaler()"
      ],
      "metadata": {
        "id": "b7v2E5ZUa3kn"
      },
      "execution_count": 4,
      "outputs": []
    },
    {
      "cell_type": "markdown",
      "source": [
        "## Симуляция ATL\n",
        "\n",
        "Функции из ноутбука atl_simulation.ipynb"
      ],
      "metadata": {
        "id": "NGQV17j7GtJt"
      }
    },
    {
      "cell_type": "code",
      "source": [
        "def my_matmul(a, m):\n",
        "    if np.isscalar(a):\n",
        "        return a * m\n",
        "    else:\n",
        "        return np.outer(a, m).reshape(len(a), m.shape[0], m.shape[1])\n",
        "    \n",
        "def compute_carpet(mask, wavelength, T_x, T_y, z):\n",
        "    '''\n",
        "    Функция для вычисления ковра Талбота\n",
        "    param mask: изображение маски,\n",
        "    param wavelength: длина волны [мм],\n",
        "    param T_x: период маски по оси x [мм],\n",
        "    param T_y: период маски по оси y [мм],\n",
        "    param z: расстояние от картины до маски [мм]\n",
        "\n",
        "    return: изображение картины\n",
        "    '''\n",
        "\n",
        "    mask_array = cp.sqrt(mask)\n",
        "    \n",
        "    N = mask_array.shape[0]\n",
        "    n = (N - 1) // 2\n",
        "\n",
        "    T = cp.array([T_x, T_y])\n",
        "    T_c = T / 2\n",
        "    N_FS = [N, N]\n",
        "    \n",
        "    F = ffsn((mask_array), T, T_c, N_FS)\n",
        "    f_x = cp.reshape(cp.arange(-n, n + 1) / T[0], (1, -1))\n",
        "    f_y = cp.reshape(cp.arange(-n, n + 1) / T[1], (-1, 1))\n",
        "\n",
        "    H = cp.exp(-1j * cp.pi * z * my_matmul(wavelength, (cp.power(f_x, 2) + cp.power(f_y, 2))))\n",
        "    result_array = (iffsn((F * H), T, T_c, N_FS, axes=[1, 2]))\n",
        "    return cp.square(cp.absolute(result_array))\n",
        "\n",
        "def compute_atl(mask, T_x = 0.001, T_y = 0.001, wl = 1.35e-5, rel_delta_wl = 0.04):\n",
        "    '''\n",
        "    Функция для вычисления дифракционной картины ATL\n",
        "    param mask: изображение маски,\n",
        "    param T_x: период маски по оси x [мм],\n",
        "    param T_y: период маски по оси y [мм],\n",
        "    param wl: длина волны [мм],\n",
        "    param rel_delta_wl: относительная немонохроматичность [мм]\n",
        "\n",
        "    return: изображение картины\n",
        "    '''\n",
        "\n",
        "    grid_size = 500\n",
        "    c = 299792458e3 # speed of light in mm/s\n",
        "    freq = c / wl\n",
        "    delta_freq = freq * rel_delta_wl\n",
        "    freq_grid = cp.linspace(freq - delta_freq, freq + delta_freq, grid_size)\n",
        "\n",
        "    grid = cp.linspace(-2, 2, grid_size)\n",
        "    intens = sps.norm.pdf(grid.get())\n",
        "    \n",
        "    z_A = 2 * max(T_x, T_y) ** 2 / (rel_delta_wl * wl)\n",
        "    carp = compute_carpet(mask, (c / freq_grid), T_x, T_y, 2 * z_A)\n",
        "    return cp.average(carp, axis=0, weights=intens).astype(cp.float16)\n",
        "\n",
        "def compute_atl_4tensor(X):\n",
        "    masks = cp.asarray(X.clone().detach(), dtype=cp.uint8).reshape(-1, 513, 513)\n",
        "    # print(masks[0])\n",
        "    pics = []\n",
        "    for i in range(masks.shape[0]):\n",
        "        pics.append(compute_atl(masks[i]).get())\n",
        "    print(pics[0])\n",
        "    return torch.tensor(np.array(pics).reshape(-1, 1, 513, 513), requires_grad=True).half().to(device)\n"
      ],
      "metadata": {
        "id": "x3h1BXmyG3f_"
      },
      "execution_count": 25,
      "outputs": []
    },
    {
      "cell_type": "markdown",
      "source": [
        "## Обучение модели\n",
        "\n",
        "Функция, которая обучает модель"
      ],
      "metadata": {
        "id": "tFlvt8VhobLi"
      }
    },
    {
      "cell_type": "code",
      "execution_count": 21,
      "metadata": {
        "id": "QIYCjpBUDOWS"
      },
      "outputs": [],
      "source": [
        "def train(model, criterion, optimizer, X, n_epochs, n_stop=10):\n",
        "    min_val_loss = np.inf\n",
        "    f = 0\n",
        "    for epoch in range(n_epochs):\n",
        "        model.train()\n",
        "        for batch in train_loader:\n",
        "            optimizer.zero_grad()\n",
        "            _X = batch[0].to(device)\n",
        "            with torch.amp.autocast(device_type='cuda', dtype=torch.float16):\n",
        "                _y_pred = model(_X)\n",
        "                _X_sim = compute_atl_4tensor(_y_pred)\n",
        "                loss = criterion(_X, _X_sim)\n",
        "            \n",
        "            scaler.scale(loss).backward()\n",
        "            scaler.step(optimizer)\n",
        "            scaler.update()\n",
        "\n",
        "        model.eval()\n",
        "        mean_val_loss = 0\n",
        "        batch_count = 0\n",
        "        for batch in val_loader:\n",
        "            _X = batch[0].to(device)\n",
        "            with torch.amp.autocast(device_type='cuda', dtype=torch.float16):\n",
        "                _y_pred = model(_X)\n",
        "                _X_sim = compute_atl_4tensor(_y_pred)\n",
        "                loss = criterion(_X, _X_sim)\n",
        "            mean_val_loss += loss.item()\n",
        "            batch_count += 1\n",
        "\n",
        "        mean_val_loss /= batch_count\n",
        "\n",
        "        if epoch % 10 == 0:\n",
        "            print(f'Epoch: {epoch}, \\tValidation loss: {(mean_val_loss)}')\n",
        "\n",
        "        if round(mean_val_loss, 3) >= min_val_loss:\n",
        "            f = f + 1\n",
        "        else:\n",
        "            f = 0\n",
        "            best_model = deepcopy(model)\n",
        "            min_val_loss = round(mean_val_loss, 3)\n",
        "        if f >= n_stop:\n",
        "            print(f'epoch: {epoch}, val loss did not decrease for {f} epoch(s)')\n",
        "            break\n",
        "\n",
        "    return best_model #, train_loss, val_loss"
      ]
    },
    {
      "cell_type": "markdown",
      "source": [
        "Функция для подсчета ошибки на тесте"
      ],
      "metadata": {
        "id": "goE4hKewogLT"
      }
    },
    {
      "cell_type": "code",
      "source": [
        "def test_loss(model, criterion):\n",
        "  mean_loss = 0\n",
        "  batch_count = 0\n",
        "  for batch in test_loader:\n",
        "    with torch.no_grad():\n",
        "      _X = batch[0].cpu().float()\n",
        "      # with torch.amp.autocast(device_type='cuda', dtype=torch.float16):\n",
        "      model.cpu()\n",
        "      _y_pred = model(_X)\n",
        "      _X_sim = compute_atl_4tensor(_y_pred).cpu()\n",
        "      loss = criterion(_X, _X_sim)\n",
        "      mean_loss += loss.item()\n",
        "      batch_count += 1\n",
        "    \n",
        "  return mean_loss / batch_count"
      ],
      "metadata": {
        "id": "5SHbsO-cf44c"
      },
      "execution_count": 15,
      "outputs": []
    },
    {
      "cell_type": "markdown",
      "source": [
        "Два варианта модели CNN"
      ],
      "metadata": {
        "id": "eK0-splEolqb"
      }
    },
    {
      "cell_type": "code",
      "source": [
        "# Define the CNN architecture\n",
        "ch_b = 4\n",
        "class CNN1(torch.nn.Module):\n",
        "  def __init__(self):\n",
        "    super(CNN1, self).__init__()\n",
        "    self.conv1 = torch.nn.Conv2d(1, ch_b, kernel_size=3, padding=2, dilation=2) # 513\n",
        "    self.pool1 = torch.nn.MaxPool2d(kernel_size=2)                # 256\n",
        "    self.conv2 = torch.nn.Conv2d(ch_b, ch_b * 2, kernel_size=3, padding=2, dilation=2) # 256\n",
        "    self.pool2 = torch.nn.MaxPool2d(kernel_size=2)                # 128\n",
        "    self.fc1 = torch.nn.Linear(ch_b * 2 * 128 * 128, 128)\n",
        "    self.fc2 = torch.nn.Linear(128, 513 * 513)\n",
        "\n",
        "  def forward(self, x):\n",
        "    x = self.conv1(x)\n",
        "    x = torch.relu(x)\n",
        "    x = self.pool1(x)\n",
        "    x = self.conv2(x)\n",
        "    x = torch.relu(x)\n",
        "    x = self.pool2(x)\n",
        "    x = x.view(-1, ch_b * 2 * 128 * 128)\n",
        "    x = self.fc1(x)\n",
        "    x = torch.relu(x)\n",
        "    x = self.fc2(x)\n",
        "    x = torch.relu(x)\n",
        "    return x.view(-1, 1, 513, 513)"
      ],
      "metadata": {
        "id": "_xPFXBEUHfPo"
      },
      "execution_count": null,
      "outputs": []
    },
    {
      "cell_type": "code",
      "source": [
        "# Define the CNN architecture\n",
        "ch_b = 2\n",
        "class CNN2(torch.nn.Module):\n",
        "  def __init__(self):\n",
        "    super(CNN2, self).__init__()\n",
        "    self.conv1 = torch.nn.Conv2d(1, ch_b, kernel_size=6, padding=5, dilation=2) # 513\n",
        "    self.pool1 = torch.nn.MaxPool2d(kernel_size=2)                # 256\n",
        "    self.conv2 = torch.nn.Conv2d(ch_b, ch_b*2, kernel_size=6, padding=5, dilation=2) # 256\n",
        "    self.pool2 = torch.nn.MaxPool2d(kernel_size=2)                # 128\n",
        "    self.fc1 = torch.nn.Linear(ch_b * 2 * 128 * 128, 128)\n",
        "    self.fc2 = torch.nn.Linear(128, 513 * 513)\n",
        "\n",
        "  def forward(self, x):\n",
        "    x = self.conv1(x)\n",
        "    x = torch.relu(x)\n",
        "    x = self.pool1(x)\n",
        "    x = self.conv2(x)\n",
        "    x = torch.relu(x)\n",
        "    x = self.pool2(x)\n",
        "    x = x.view(-1, ch_b * 2 * 128 * 128)\n",
        "    x = self.fc1(x)\n",
        "    x = torch.relu(x)\n",
        "    x = self.fc2(x)\n",
        "    x = torch.relu(x)\n",
        "    return x.view(-1, 1, 513, 513)"
      ],
      "metadata": {
        "id": "YsfbqKVRGVOp"
      },
      "execution_count": 7,
      "outputs": []
    },
    {
      "cell_type": "markdown",
      "source": [
        "В этой ячейке можно проверить работу слоя"
      ],
      "metadata": {
        "id": "2EDkuZfGopLp"
      }
    },
    {
      "cell_type": "code",
      "source": [
        "# m = nn.MaxPool2d(kernel_size=4)\n",
        "m = torch.nn.Conv2d(1, 1, kernel_size=3, padding=2, dilation=2, stride=2)\n",
        "s = 256\n",
        "input = torch.randn(1, s, s)\n",
        "output = m(input)\n",
        "output.size()"
      ],
      "metadata": {
        "id": "pVpGHy4aKH4R",
        "outputId": "8ae03057-3017-4686-fd0a-57f348f514c8",
        "colab": {
          "base_uri": "https://localhost:8080/"
        }
      },
      "execution_count": null,
      "outputs": [
        {
          "output_type": "execute_result",
          "data": {
            "text/plain": [
              "torch.Size([1, 128, 128])"
            ]
          },
          "metadata": {},
          "execution_count": 13
        }
      ]
    },
    {
      "cell_type": "markdown",
      "source": [
        "Обучаем модель"
      ],
      "metadata": {
        "id": "mXBl2lhjo2nm"
      }
    },
    {
      "cell_type": "code",
      "execution_count": 26,
      "metadata": {
        "id": "Qv-2uW3CDOWT",
        "outputId": "dc01d447-7dee-45b9-d11c-2930687381ec",
        "colab": {
          "base_uri": "https://localhost:8080/",
          "height": 521
        }
      },
      "outputs": [
        {
          "output_type": "stream",
          "name": "stderr",
          "text": [
            "<ipython-input-26-80c90020a7fd>:9: UserWarning: Anomaly Detection has been enabled. This mode will increase the runtime and should only be enabled for debugging.\n",
            "  with torch.autograd.detect_anomaly(check_nan=True):\n"
          ]
        },
        {
          "output_type": "stream",
          "name": "stdout",
          "text": [
            "[[1.452 1.701 1.655 ... 1.514 1.58  1.565]\n",
            " [1.596 1.47  1.669 ... 1.495 1.508 1.498]\n",
            " [1.54  1.65  1.39  ... 1.618 1.4   1.437]\n",
            " ...\n",
            " [1.455 1.563 1.565 ... 1.648 1.596 1.597]\n",
            " [1.533 1.508 1.456 ... 1.5   1.574 1.583]\n",
            " [1.666 1.579 1.485 ... 1.646 1.582 1.578]]\n"
          ]
        },
        {
          "output_type": "error",
          "ename": "AssertionError",
          "evalue": "ignored",
          "traceback": [
            "\u001b[0;31m---------------------------------------------------------------------------\u001b[0m",
            "\u001b[0;31mAssertionError\u001b[0m                            Traceback (most recent call last)",
            "\u001b[0;32m<ipython-input-26-80c90020a7fd>\u001b[0m in \u001b[0;36m<cell line: 9>\u001b[0;34m()\u001b[0m\n\u001b[1;32m      8\u001b[0m \u001b[0;34m\u001b[0m\u001b[0m\n\u001b[1;32m      9\u001b[0m \u001b[0;32mwith\u001b[0m \u001b[0mtorch\u001b[0m\u001b[0;34m.\u001b[0m\u001b[0mautograd\u001b[0m\u001b[0;34m.\u001b[0m\u001b[0mdetect_anomaly\u001b[0m\u001b[0;34m(\u001b[0m\u001b[0mcheck_nan\u001b[0m\u001b[0;34m=\u001b[0m\u001b[0;32mTrue\u001b[0m\u001b[0;34m)\u001b[0m\u001b[0;34m:\u001b[0m\u001b[0;34m\u001b[0m\u001b[0;34m\u001b[0m\u001b[0m\n\u001b[0;32m---> 10\u001b[0;31m   \u001b[0mmodel\u001b[0m \u001b[0;34m=\u001b[0m \u001b[0mtrain\u001b[0m\u001b[0;34m(\u001b[0m\u001b[0mmodel\u001b[0m\u001b[0;34m,\u001b[0m \u001b[0mcriterion\u001b[0m\u001b[0;34m,\u001b[0m \u001b[0moptimizer\u001b[0m\u001b[0;34m,\u001b[0m \u001b[0mX\u001b[0m\u001b[0;34m,\u001b[0m \u001b[0mn_epochs\u001b[0m\u001b[0;34m=\u001b[0m\u001b[0;36m50\u001b[0m\u001b[0;34m,\u001b[0m \u001b[0mn_stop\u001b[0m\u001b[0;34m=\u001b[0m\u001b[0;36m10\u001b[0m\u001b[0;34m)\u001b[0m\u001b[0;34m\u001b[0m\u001b[0;34m\u001b[0m\u001b[0m\n\u001b[0m",
            "\u001b[0;32m<ipython-input-21-b332bc4815a4>\u001b[0m in \u001b[0;36mtrain\u001b[0;34m(model, criterion, optimizer, X, n_epochs, n_stop)\u001b[0m\n\u001b[1;32m     13\u001b[0m \u001b[0;34m\u001b[0m\u001b[0m\n\u001b[1;32m     14\u001b[0m             \u001b[0mscaler\u001b[0m\u001b[0;34m.\u001b[0m\u001b[0mscale\u001b[0m\u001b[0;34m(\u001b[0m\u001b[0mloss\u001b[0m\u001b[0;34m)\u001b[0m\u001b[0;34m.\u001b[0m\u001b[0mbackward\u001b[0m\u001b[0;34m(\u001b[0m\u001b[0;34m)\u001b[0m\u001b[0;34m\u001b[0m\u001b[0;34m\u001b[0m\u001b[0m\n\u001b[0;32m---> 15\u001b[0;31m             \u001b[0mscaler\u001b[0m\u001b[0;34m.\u001b[0m\u001b[0mstep\u001b[0m\u001b[0;34m(\u001b[0m\u001b[0moptimizer\u001b[0m\u001b[0;34m)\u001b[0m\u001b[0;34m\u001b[0m\u001b[0;34m\u001b[0m\u001b[0m\n\u001b[0m\u001b[1;32m     16\u001b[0m             \u001b[0mscaler\u001b[0m\u001b[0;34m.\u001b[0m\u001b[0mupdate\u001b[0m\u001b[0;34m(\u001b[0m\u001b[0;34m)\u001b[0m\u001b[0;34m\u001b[0m\u001b[0;34m\u001b[0m\u001b[0m\n\u001b[1;32m     17\u001b[0m \u001b[0;34m\u001b[0m\u001b[0m\n",
            "\u001b[0;32m/usr/local/lib/python3.10/dist-packages/torch/cuda/amp/grad_scaler.py\u001b[0m in \u001b[0;36mstep\u001b[0;34m(self, optimizer, *args, **kwargs)\u001b[0m\n\u001b[1;32m    366\u001b[0m             \u001b[0mself\u001b[0m\u001b[0;34m.\u001b[0m\u001b[0munscale_\u001b[0m\u001b[0;34m(\u001b[0m\u001b[0moptimizer\u001b[0m\u001b[0;34m)\u001b[0m\u001b[0;34m\u001b[0m\u001b[0;34m\u001b[0m\u001b[0m\n\u001b[1;32m    367\u001b[0m \u001b[0;34m\u001b[0m\u001b[0m\n\u001b[0;32m--> 368\u001b[0;31m         \u001b[0;32massert\u001b[0m \u001b[0mlen\u001b[0m\u001b[0;34m(\u001b[0m\u001b[0moptimizer_state\u001b[0m\u001b[0;34m[\u001b[0m\u001b[0;34m\"found_inf_per_device\"\u001b[0m\u001b[0;34m]\u001b[0m\u001b[0;34m)\u001b[0m \u001b[0;34m>\u001b[0m \u001b[0;36m0\u001b[0m\u001b[0;34m,\u001b[0m \u001b[0;34m\"No inf checks were recorded for this optimizer.\"\u001b[0m\u001b[0;34m\u001b[0m\u001b[0;34m\u001b[0m\u001b[0m\n\u001b[0m\u001b[1;32m    369\u001b[0m \u001b[0;34m\u001b[0m\u001b[0m\n\u001b[1;32m    370\u001b[0m         \u001b[0mretval\u001b[0m \u001b[0;34m=\u001b[0m \u001b[0mself\u001b[0m\u001b[0;34m.\u001b[0m\u001b[0m_maybe_opt_step\u001b[0m\u001b[0;34m(\u001b[0m\u001b[0moptimizer\u001b[0m\u001b[0;34m,\u001b[0m \u001b[0moptimizer_state\u001b[0m\u001b[0;34m,\u001b[0m \u001b[0;34m*\u001b[0m\u001b[0margs\u001b[0m\u001b[0;34m,\u001b[0m \u001b[0;34m**\u001b[0m\u001b[0mkwargs\u001b[0m\u001b[0;34m)\u001b[0m\u001b[0;34m\u001b[0m\u001b[0;34m\u001b[0m\u001b[0m\n",
            "\u001b[0;31mAssertionError\u001b[0m: No inf checks were recorded for this optimizer."
          ]
        }
      ],
      "source": [
        "# Instantiate the CNN\n",
        "model = CNN2().to(device)\n",
        "model.cuda()\n",
        "\n",
        "# Define the loss function and optimizer\n",
        "criterion = torch.nn.MSELoss()\n",
        "optimizer = torch.optim.Adam(model.parameters(), lr=0.005)\n",
        "\n",
        "with torch.autograd.detect_anomaly(check_nan=True):\n",
        "  model = train(model, criterion, optimizer, X, n_epochs=50, n_stop=10)"
      ]
    },
    {
      "cell_type": "markdown",
      "source": [
        "Можно загрузить уже обученную модель"
      ],
      "metadata": {
        "id": "22yDeFVppegA"
      }
    },
    {
      "cell_type": "code",
      "source": [
        "model = torch.load('/content/drive/MyDrive/models/model2', map_location=torch.device('cpu')).to(device)\n",
        "# model.cuda()"
      ],
      "metadata": {
        "id": "SZcuPTAMkisE"
      },
      "execution_count": null,
      "outputs": []
    },
    {
      "cell_type": "markdown",
      "source": [
        "Считаем ошибку на тесте"
      ],
      "metadata": {
        "id": "UTfG9_tApi2N"
      }
    },
    {
      "cell_type": "code",
      "execution_count": null,
      "metadata": {
        "id": "YHAD2WTeDOWT",
        "outputId": "b426e05b-40bb-4840-c75f-96bac653e00e",
        "colab": {
          "base_uri": "https://localhost:8080/"
        }
      },
      "outputs": [
        {
          "output_type": "stream",
          "name": "stdout",
          "text": [
            "Test loss: 4123.008231026785\n"
          ]
        }
      ],
      "source": [
        "criterion = torch.nn.MSELoss()\n",
        "print(f'Test loss: {test_loss(model, criterion)}')"
      ]
    },
    {
      "cell_type": "markdown",
      "source": [
        "Сохраняем модель, если понравилась"
      ],
      "metadata": {
        "id": "XAtk-MkBpmUP"
      }
    },
    {
      "cell_type": "code",
      "source": [
        "torch.save(model, '/content/drive/MyDrive/models/model4123')"
      ],
      "metadata": {
        "id": "L7eZYBV3kEAW"
      },
      "execution_count": null,
      "outputs": []
    },
    {
      "cell_type": "markdown",
      "source": [
        "## Проверка модели на практике\n",
        "\n",
        "Следующие ячейки нужны для предсказания маски для какой-то конкретной картинки. Это предсказание можно сохранить, сделать по нему симуляцию и сравнить ее с исходной картинкой. "
      ],
      "metadata": {
        "id": "eljBWfuDpsId"
      }
    },
    {
      "cell_type": "code",
      "source": [
        "circle_np = np.array(Image.open('/content/drive/MyDrive/prediction_test/cooler_im10.png').convert(\"L\")) / 64\n",
        "# circle_np = np.load('/content/drive/MyDrive/dif/sim18.npy')\n",
        "circle =  torch.from_numpy(circle_np.reshape(1, 513, 513)).half().to(device)\n",
        "model.cuda()\n",
        "with torch.amp.autocast(device_type='cuda', dtype=torch.float16):\n",
        "  circle_pred = model(circle)"
      ],
      "metadata": {
        "id": "l1lE0JVsCMkh"
      },
      "execution_count": null,
      "outputs": []
    },
    {
      "cell_type": "code",
      "source": [
        "def frame_plot(arr, ax):\n",
        "  rectX = np.linspace(0, 1, arr.shape[0])\n",
        "  rectY = np.linspace(0, 1, arr.shape[1])\n",
        "  x, y = np.meshgrid(rectX, rectY)\n",
        "  ax.pcolormesh(x, y, arr)"
      ],
      "metadata": {
        "id": "AvxmnG3uEDxj"
      },
      "execution_count": null,
      "outputs": []
    },
    {
      "cell_type": "code",
      "source": [
        "circle_pred_np = circle_pred.cpu().detach().numpy().reshape(513, 513)"
      ],
      "metadata": {
        "id": "_KrkGfEwFkgD"
      },
      "execution_count": null,
      "outputs": []
    },
    {
      "cell_type": "code",
      "source": [
        "fig, ax = plt.subplots(1, 2, figsize=(16, 8))\n",
        "frame_plot(circle_pred_np, ax=ax[0])\n",
        "frame_plot(circle_np, ax=ax[1])"
      ],
      "metadata": {
        "id": "YP0rBwFYDY7b"
      },
      "execution_count": null,
      "outputs": []
    },
    {
      "cell_type": "code",
      "source": [
        "circle_pred_np[256][256]"
      ],
      "metadata": {
        "id": "5XdD3JQNGqHr",
        "outputId": "684259d2-22d2-453b-cc11-7fe24c5be2b7",
        "colab": {
          "base_uri": "https://localhost:8080/"
        }
      },
      "execution_count": null,
      "outputs": [
        {
          "output_type": "execute_result",
          "data": {
            "text/plain": [
              "74.3"
            ]
          },
          "metadata": {},
          "execution_count": 40
        }
      ]
    },
    {
      "cell_type": "code",
      "source": [
        "circle_im = Image.fromarray(circle_pred_np.astype(np.uint8))\n",
        "circle_im = circle_im.convert('L')\n",
        "circle_im.show()\n",
        "circle_im.save('/content/drive/MyDrive/prediction_test/circle_pred.png')"
      ],
      "metadata": {
        "id": "OtktlWJOF0iG"
      },
      "execution_count": null,
      "outputs": []
    }
  ],
  "metadata": {
    "kernelspec": {
      "display_name": "Python 3",
      "language": "python",
      "name": "python3"
    },
    "language_info": {
      "codemirror_mode": {
        "name": "ipython",
        "version": 3
      },
      "file_extension": ".py",
      "mimetype": "text/x-python",
      "name": "python",
      "nbconvert_exporter": "python",
      "pygments_lexer": "ipython3",
      "version": "3.9.6"
    },
    "orig_nbformat": 4,
    "colab": {
      "provenance": [],
      "gpuType": "T4"
    },
    "accelerator": "GPU",
    "gpuClass": "standard"
  },
  "nbformat": 4,
  "nbformat_minor": 0
}