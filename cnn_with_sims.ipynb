{
  "cells": [
    {
      "cell_type": "markdown",
      "metadata": {
        "id": "ASS0Ek_KnUf1"
      },
      "source": [
        "# Ноутбук с нейронкой для предсказаний"
      ]
    },
    {
      "cell_type": "markdown",
      "source": [
        "В этом ноутбуке применяется так называемая \"гибридная\" стратегия обучения. Смысл ее в том, что цикл обучения происходит по классической схеме: используем заранее подготовленный датасет (маски - таргеты и симуляции от них) и минимизируем функцию потерь между предсказанием и таргетом. Валидация и тест проводятся иначе: от подготовленных картин делается предсказание, от предсказания делается симуляция и лосс вычисляется между симуляцией и исходной картиной.\n",
        "\n",
        "Предполагается, что такая стратегия:\n",
        "\n",
        "- Будет не настолько вычислительно сложной, как обучение по схеме predict-simulation-loss\n",
        "\n",
        "- Будет лучше подходить под практическое применение, когда маска действительно не известна"
      ],
      "metadata": {
        "id": "Mibi82kG72MM"
      }
    },
    {
      "cell_type": "markdown",
      "metadata": {
        "id": "MEdpLvwyqwzD"
      },
      "source": [
        "## Подготовка данных\n",
        "\n",
        "Скачиваем библиотеки, необходимые для симуляции. Установку надо прервать на моменте \"Building wheels for cupy\"."
      ]
    },
    {
      "cell_type": "code",
      "execution_count": null,
      "metadata": {
        "id": "N4ro2dfIGAqe"
      },
      "outputs": [],
      "source": [
        "!pip install pyffs\n",
        "!pip install cupy"
      ]
    },
    {
      "cell_type": "markdown",
      "source": [
        "Импортируем"
      ],
      "metadata": {
        "id": "YxtA-CzE4kQu"
      }
    },
    {
      "cell_type": "code",
      "execution_count": 3,
      "metadata": {
        "id": "zMVlxZ1FDOWO"
      },
      "outputs": [],
      "source": [
        "import numpy as np\n",
        "import matplotlib.pyplot as plt\n",
        "\n",
        "import torch\n",
        "import torchvision\n",
        "\n",
        "from tqdm import tqdm\n",
        "from copy import deepcopy\n",
        "from timeit import default_timer\n",
        "from sklearn.model_selection import train_test_split\n",
        "from sklearn.metrics import ConfusionMatrixDisplay, confusion_matrix, log_loss\n",
        "from sklearn.metrics import RocCurveDisplay, roc_curve, auc\n",
        "\n",
        "\n",
        "import torch.nn as nn\n",
        "import torch.nn.functional as F\n",
        "\n",
        "from torchsummary import summary\n",
        "from torch.utils.data import DataLoader\n",
        "from torch.utils.data import TensorDataset\n",
        "from torch.utils.data import random_split\n",
        "\n",
        "import gc\n",
        "from PIL import Image\n",
        "from pyffs import ffsn, iffsn\n",
        "import cupy as cp\n",
        "import scipy.stats as sps"
      ]
    },
    {
      "cell_type": "markdown",
      "metadata": {
        "id": "U_ogwF0VnlFV"
      },
      "source": [
        "Подключаем Google диск"
      ]
    },
    {
      "cell_type": "code",
      "execution_count": 4,
      "metadata": {
        "colab": {
          "base_uri": "https://localhost:8080/"
        },
        "id": "ryEQvsOmDtPi",
        "outputId": "5b8f4949-5fcc-44ae-f3e0-ef9f0874a67b"
      },
      "outputs": [
        {
          "output_type": "stream",
          "name": "stdout",
          "text": [
            "Mounted at /content/drive\n"
          ]
        }
      ],
      "source": [
        "from google.colab import drive\n",
        "drive.mount('/content/drive')"
      ]
    },
    {
      "cell_type": "markdown",
      "metadata": {
        "id": "CowNDGVCnpy0"
      },
      "source": [
        "Загружаем данные: бинарные маски, симуляции дифракции по ним и картинки дифракции"
      ]
    },
    {
      "cell_type": "code",
      "execution_count": 5,
      "metadata": {
        "id": "5tlhq0WdD1C5"
      },
      "outputs": [],
      "source": [
        "dataset = np.load('/content/drive/MyDrive/dataset.npy', allow_pickle=True)\n",
        "# simulations = np.load('/content/drive/MyDrive/simulations.npy', allow_pickle=True)\n",
        "sim_pattern = np.load('/content/drive/MyDrive/sim_pattern.npy', allow_pickle=True)"
      ]
    },
    {
      "cell_type": "markdown",
      "metadata": {
        "id": "PuHUAv7dL9rO"
      },
      "source": [
        "Для работы с полным датасетом не хватает вычислительной мощности. Поэтому отрезаем от него часть."
      ]
    },
    {
      "cell_type": "code",
      "source": [
        "device = torch.device('cuda')\n",
        "tvc_factor = 1"
      ],
      "metadata": {
        "id": "jEFxNTGWGs03"
      },
      "execution_count": 6,
      "outputs": []
    },
    {
      "cell_type": "code",
      "execution_count": null,
      "metadata": {
        "id": "ilxJOOggDOWR"
      },
      "outputs": [],
      "source": [
        "N_start = 0\n",
        "N_end = simulations.shape[0]\n",
        "data_step = 3\n",
        "X = torch.from_numpy(simulations[N_start:N_end:data_step].reshape(-1, 1, 513, 513)).half().to(device)\n",
        "y = torch.from_numpy(dataset[N_start:N_end:data_step].reshape(-1, 1, 513, 513)).half().to(device)\n",
        "Z = torch.from_numpy(sim_pattern[:100].reshape(-1, 1, 513, 513) / tvc_factor).half().to(device)"
      ]
    },
    {
      "cell_type": "markdown",
      "metadata": {
        "id": "BUN0JH58oJth"
      },
      "source": [
        "Освобождаем память"
      ]
    },
    {
      "cell_type": "code",
      "execution_count": null,
      "metadata": {
        "id": "3_eEXMLP1tyZ"
      },
      "outputs": [],
      "source": [
        "del simulations\n",
        "# del dataset"
      ]
    },
    {
      "cell_type": "markdown",
      "metadata": {
        "id": "NAXv6HEeoRCI"
      },
      "source": [
        "Делим данные на обучение, валидацию и тест"
      ]
    },
    {
      "cell_type": "code",
      "execution_count": null,
      "metadata": {
        "id": "b7v2E5ZUa3kn"
      },
      "outputs": [],
      "source": [
        "bs = 5\n",
        "\n",
        "Z_val, Z_test = train_test_split(Z, test_size=0.7, random_state=42)\n",
        "\n",
        "train_data = TensorDataset(X, y)\n",
        "val_data = TensorDataset(Z_val)\n",
        "test_data = TensorDataset(Z_test)\n",
        "\n",
        "train_loader = DataLoader(train_data, batch_size=bs)\n",
        "val_loader = DataLoader(val_data, batch_size=bs)\n",
        "test_loader = DataLoader(test_data, batch_size=bs)\n",
        "\n",
        "scaler = torch.cuda.amp.GradScaler()\n",
        "tvc_penalty = 1 / 16"
      ]
    },
    {
      "cell_type": "markdown",
      "metadata": {
        "id": "NGQV17j7GtJt"
      },
      "source": [
        "## Симуляция ATL\n",
        "\n",
        "Функции из ноутбука atl_simulation.ipynb"
      ]
    },
    {
      "cell_type": "code",
      "execution_count": 7,
      "metadata": {
        "id": "x3h1BXmyG3f_"
      },
      "outputs": [],
      "source": [
        "def my_matmul(a, m):\n",
        "    if np.isscalar(a):\n",
        "        return a * m\n",
        "    else:\n",
        "        return np.outer(a, m).reshape(len(a), m.shape[0], m.shape[1])\n",
        "    \n",
        "def compute_carpet(mask, wavelength, T_x, T_y, z):\n",
        "    '''\n",
        "    Функция для вычисления ковра Талбота\n",
        "    param mask: изображение маски,\n",
        "    param wavelength: длина волны [мм],\n",
        "    param T_x: период маски по оси x [мм],\n",
        "    param T_y: период маски по оси y [мм],\n",
        "    param z: расстояние от картины до маски [мм]\n",
        "\n",
        "    return: изображение картины\n",
        "    '''\n",
        "\n",
        "    mask_array = cp.sqrt(mask)\n",
        "    \n",
        "    N = mask_array.shape[0]\n",
        "    n = (N - 1) // 2\n",
        "\n",
        "    T = cp.array([T_x, T_y])\n",
        "    T_c = T / 2\n",
        "    N_FS = [N, N]\n",
        "    \n",
        "    F = ffsn((mask_array), T, T_c, N_FS)\n",
        "    f_x = cp.reshape(cp.arange(-n, n + 1) / T[0], (1, -1))\n",
        "    f_y = cp.reshape(cp.arange(-n, n + 1) / T[1], (-1, 1))\n",
        "\n",
        "    H = cp.exp(-1j * cp.pi * z * my_matmul(wavelength, (cp.power(f_x, 2) + cp.power(f_y, 2))))\n",
        "    result_array = (iffsn((F * H), T, T_c, N_FS, axes=[1, 2]))\n",
        "    return cp.square(cp.absolute(result_array))\n",
        "\n",
        "def compute_atl(mask, T_x = 0.001, T_y = 0.001, wl = 1.35e-5, rel_delta_wl = 0.04):\n",
        "    '''\n",
        "    Функция для вычисления дифракционной картины ATL\n",
        "    param mask: изображение маски,\n",
        "    param T_x: период маски по оси x [мм],\n",
        "    param T_y: период маски по оси y [мм],\n",
        "    param wl: длина волны [мм],\n",
        "    param rel_delta_wl: относительная немонохроматичность [мм]\n",
        "\n",
        "    return: изображение картины\n",
        "    '''\n",
        "\n",
        "    grid_size = 500\n",
        "    c = 299792458e3 # speed of light in mm/s\n",
        "    freq = c / wl\n",
        "    delta_freq = freq * rel_delta_wl\n",
        "    freq_grid = cp.linspace(freq - delta_freq, freq + delta_freq, grid_size)\n",
        "\n",
        "    grid = cp.linspace(-2, 2, grid_size)\n",
        "    intens = sps.norm.pdf(grid.get())\n",
        "    \n",
        "    z_A = 2 * max(T_x, T_y) ** 2 / (rel_delta_wl * wl)\n",
        "    carp = compute_carpet(mask, (c / freq_grid), T_x, T_y, 2 * z_A)\n",
        "    return cp.average(carp, axis=0, weights=intens).astype(cp.float16)\n",
        "\n",
        "def compute_atl_4tensor(X):\n",
        "    masks = cp.where(cp.asarray(X.clone().detach()).reshape(-1, 513, 513) > 128, 255, 0)\n",
        "    pics = []\n",
        "    for i in range(masks.shape[0]):\n",
        "        pics.append(compute_atl(masks[i]).get())\n",
        "    return torch.tensor(np.array(pics).reshape(-1, 1, 513, 513), requires_grad=True).half().to(device)\n",
        "\n",
        "def reduce_period(pic):\n",
        "    period = 1\n",
        "    wavelength = cp.array([0.1])\n",
        "    z = 10\n",
        "    return (np.clip(compute_carpet(cp.array(pic), wavelength, period, period, z)[0].get() + pic, 0, 255)).astype(np.uint8)"
      ]
    },
    {
      "cell_type": "markdown",
      "source": [
        "## Обучение модели"
      ],
      "metadata": {
        "id": "7GDd9H9YIScr"
      }
    },
    {
      "cell_type": "markdown",
      "metadata": {
        "id": "tFlvt8VhobLi"
      },
      "source": [
        "### Функция, которая обучает модель\n",
        "\n",
        "На обучении считаем лосс между предсказанием и таргетом, а на валидации между симуляцией от предсказания и исходной картиной."
      ]
    },
    {
      "cell_type": "code",
      "execution_count": null,
      "metadata": {
        "id": "QIYCjpBUDOWS"
      },
      "outputs": [],
      "source": [
        "def train(model, criterion, optimizer, X, n_epochs, n_stop=10):\n",
        "    min_val_loss = np.inf\n",
        "    f = 0\n",
        "    for epoch in range(n_epochs):\n",
        "        model.train()\n",
        "        mean_train_loss = 0\n",
        "        batch_count = 0\n",
        "        for batch in train_loader:\n",
        "            optimizer.zero_grad()\n",
        "            _X, _y = batch\n",
        "            _X, _y = _X.to(device), _y.to(device)\n",
        "\n",
        "            with torch.amp.autocast(device_type='cuda', dtype=torch.float16):\n",
        "                _y_pred = model(_X)\n",
        "                loss = criterion(_y_pred, _y)                \n",
        "            mean_train_loss += loss.item()\n",
        "            batch_count += 1\n",
        "            scaler.scale(loss).backward()\n",
        "            scaler.step(optimizer)\n",
        "            scaler.update()\n",
        "\n",
        "        mean_train_loss /= batch_count\n",
        "\n",
        "        model.eval()\n",
        "        mean_val_loss = 0\n",
        "        batch_count = 0\n",
        "        for batch in val_loader:\n",
        "            _X = batch[0].to(device)\n",
        "            with torch.amp.autocast(device_type='cuda', dtype=torch.float16):\n",
        "                _y_pred = model(_X)\n",
        "            _X_sim = compute_atl_4tensor(_y_pred)\n",
        "            loss = criterion(_X, _X_sim / tvc_penalty)\n",
        "            mean_val_loss += loss.item()\n",
        "            batch_count += 1\n",
        "\n",
        "        mean_val_loss /= batch_count\n",
        "\n",
        "        if epoch % 10 == 0:\n",
        "            print(f'Epoch: {epoch}, \\tTrain loss: {(mean_train_loss)}, \\tValidation loss: {(mean_val_loss)}')\n",
        "\n",
        "        if (round(mean_val_loss, 3) >= min_val_loss) or (mean_train_loss > 7000):\n",
        "            f = f + 1\n",
        "        else:\n",
        "            f = 0\n",
        "            best_model = deepcopy(model)\n",
        "            min_val_loss = round(mean_val_loss, 3)\n",
        "        if f >= n_stop:\n",
        "            print(f'epoch: {epoch}, val loss did not decrease for {f} epoch(s)')\n",
        "            break\n",
        "\n",
        "    return best_model #, train_loss, val_loss"
      ]
    },
    {
      "cell_type": "markdown",
      "metadata": {
        "id": "goE4hKewogLT"
      },
      "source": [
        "### Функция для подсчета ошибки на тесте\n",
        "\n",
        "Делаем то же, что и при валидации, но без GPU и без использования mixed precision training. Здесь нам не так важна скорость, но важно сберечь видеопамять."
      ]
    },
    {
      "cell_type": "code",
      "execution_count": null,
      "metadata": {
        "id": "5SHbsO-cf44c"
      },
      "outputs": [],
      "source": [
        "def test_loss(model, criterion):\n",
        "  mean_loss = 0\n",
        "  batch_count = 0\n",
        "  for batch in test_loader:\n",
        "    with torch.no_grad():\n",
        "      _X = batch[0].cpu().float()\n",
        "      # with torch.amp.autocast(device_type='cuda', dtype=torch.float16):\n",
        "      model.cpu()\n",
        "      _y_pred = model(_X)\n",
        "      _X_sim = compute_atl_4tensor(_y_pred).cpu()\n",
        "      loss = criterion(_X, _X_sim / tvc_penalty)\n",
        "      mean_loss += loss.item()\n",
        "      batch_count += 1\n",
        "    \n",
        "  return mean_loss / batch_count"
      ]
    },
    {
      "cell_type": "markdown",
      "metadata": {
        "id": "eK0-splEolqb"
      },
      "source": [
        "### Два варианта модели CNN"
      ]
    },
    {
      "cell_type": "code",
      "execution_count": 8,
      "metadata": {
        "id": "_xPFXBEUHfPo"
      },
      "outputs": [],
      "source": [
        "# Define the CNN architecture\n",
        "ch_b = 4\n",
        "class CNN1(torch.nn.Module):\n",
        "  def __init__(self):\n",
        "    super(CNN1, self).__init__()\n",
        "    self.conv1 = torch.nn.Conv2d(1, ch_b, kernel_size=3, padding=2, dilation=2) # 513\n",
        "    self.pool1 = torch.nn.MaxPool2d(kernel_size=2)                # 256\n",
        "    self.conv2 = torch.nn.Conv2d(ch_b, ch_b * 2, kernel_size=3, padding=2, dilation=2) # 256\n",
        "    self.pool2 = torch.nn.MaxPool2d(kernel_size=2)                # 128\n",
        "    self.fc1 = torch.nn.Linear(ch_b * 2 * 128 * 128, 128)\n",
        "    self.fc2 = torch.nn.Linear(128, 513 * 513)\n",
        "\n",
        "  def forward(self, x):\n",
        "    x = self.conv1(x)\n",
        "    x = torch.relu(x)\n",
        "    x = self.pool1(x)\n",
        "    x = self.conv2(x)\n",
        "    x = torch.relu(x)\n",
        "    x = self.pool2(x)\n",
        "    x = x.view(-1, ch_b * 2 * 128 * 128)\n",
        "    x = self.fc1(x)\n",
        "    x = torch.relu(x)\n",
        "    x = self.fc2(x)\n",
        "    x = torch.relu(x)\n",
        "    return x.view(-1, 1, 513, 513)"
      ]
    },
    {
      "cell_type": "code",
      "execution_count": 9,
      "metadata": {
        "id": "YsfbqKVRGVOp"
      },
      "outputs": [],
      "source": [
        "# Define the CNN architecture\n",
        "ch_b = 2\n",
        "class CNN2(torch.nn.Module):\n",
        "  def __init__(self):\n",
        "    super(CNN2, self).__init__()\n",
        "    self.conv1 = torch.nn.Conv2d(1, ch_b, kernel_size=6, padding=5, dilation=2) # 513\n",
        "    self.pool1 = torch.nn.MaxPool2d(kernel_size=2)                # 256\n",
        "    self.conv2 = torch.nn.Conv2d(ch_b, ch_b*2, kernel_size=6, padding=5, dilation=2) # 256\n",
        "    self.pool2 = torch.nn.MaxPool2d(kernel_size=2)                # 128\n",
        "    self.fc1 = torch.nn.Linear(ch_b * 2 * 128 * 128, 128)\n",
        "    self.fc2 = torch.nn.Linear(128, 513 * 513)\n",
        "\n",
        "  def forward(self, x):\n",
        "    x = self.conv1(x)\n",
        "    x = torch.relu(x)\n",
        "    x = self.pool1(x)\n",
        "    x = self.conv2(x)\n",
        "    x = torch.relu(x)\n",
        "    x = self.pool2(x)\n",
        "    x = x.view(-1, ch_b * 2 * 128 * 128)\n",
        "    x = self.fc1(x)\n",
        "    x = torch.relu(x)\n",
        "    x = self.fc2(x)\n",
        "    x = torch.relu(x)\n",
        "    return x.view(-1, 1, 513, 513)"
      ]
    },
    {
      "cell_type": "markdown",
      "metadata": {
        "id": "2EDkuZfGopLp"
      },
      "source": [
        "В этой ячейке можно проверить работу слоя"
      ]
    },
    {
      "cell_type": "code",
      "execution_count": 10,
      "metadata": {
        "colab": {
          "base_uri": "https://localhost:8080/"
        },
        "id": "pVpGHy4aKH4R",
        "outputId": "1148b9b6-2026-419c-a621-c3b1f49068bc"
      },
      "outputs": [
        {
          "output_type": "execute_result",
          "data": {
            "text/plain": [
              "torch.Size([1, 128, 128])"
            ]
          },
          "metadata": {},
          "execution_count": 10
        }
      ],
      "source": [
        "# m = nn.MaxPool2d(kernel_size=4)\n",
        "m = torch.nn.Conv2d(1, 1, kernel_size=3, padding=2, dilation=2, stride=2)\n",
        "s = 256\n",
        "input = torch.randn(1, s, s)\n",
        "output = m(input)\n",
        "output.size()"
      ]
    },
    {
      "cell_type": "markdown",
      "source": [
        "### Обучение и тест"
      ],
      "metadata": {
        "id": "-f35ybp85OYj"
      }
    },
    {
      "cell_type": "markdown",
      "metadata": {
        "id": "mXBl2lhjo2nm"
      },
      "source": [
        "Обучаем модель"
      ]
    },
    {
      "cell_type": "code",
      "execution_count": null,
      "metadata": {
        "id": "Qv-2uW3CDOWT"
      },
      "outputs": [],
      "source": [
        "# Instantiate the CNN\n",
        "model = CNN2().to(device)\n",
        "model.cuda()\n",
        "\n",
        "# Define the loss function and optimizer\n",
        "criterion = torch.nn.MSELoss()\n",
        "optimizer = torch.optim.Adam(model.parameters(), lr=0.001)\n",
        "\n",
        "# with torch.autograd.detect_anomaly(check_nan=True):\n",
        "model = train(model, criterion, optimizer, X, n_epochs=10000, n_stop=100)"
      ]
    },
    {
      "cell_type": "markdown",
      "metadata": {
        "id": "22yDeFVppegA"
      },
      "source": [
        "Можно загрузить уже обученную модель"
      ]
    },
    {
      "cell_type": "code",
      "execution_count": null,
      "metadata": {
        "id": "SZcuPTAMkisE"
      },
      "outputs": [],
      "source": [
        "model_other = torch.load('/content/drive/MyDrive/models/hybrid73', map_location=torch.device('cpu')).to(device)\n",
        "# model.cuda()"
      ]
    },
    {
      "cell_type": "markdown",
      "metadata": {
        "id": "UTfG9_tApi2N"
      },
      "source": [
        "Считаем ошибку на тесте"
      ]
    },
    {
      "cell_type": "code",
      "execution_count": null,
      "metadata": {
        "colab": {
          "base_uri": "https://localhost:8080/"
        },
        "id": "YHAD2WTeDOWT",
        "outputId": "377fa931-5169-4375-b512-6139b0214a62"
      },
      "outputs": [
        {
          "output_type": "stream",
          "name": "stdout",
          "text": [
            "Test loss: 2781394.0714285714\n"
          ]
        }
      ],
      "source": [
        "criterion = torch.nn.MSELoss()\n",
        "print(f'Test loss: {test_loss(model, criterion)}')\n",
        "# print(f'Test loss: {test_loss(model_other, criterion)}')"
      ]
    },
    {
      "cell_type": "markdown",
      "metadata": {
        "id": "XAtk-MkBpmUP"
      },
      "source": [
        "Сохраняем модель, если понравилась"
      ]
    },
    {
      "cell_type": "code",
      "execution_count": null,
      "metadata": {
        "id": "L7eZYBV3kEAW"
      },
      "outputs": [],
      "source": [
        "torch.save(model, '/content/drive/MyDrive/models/hybrid15_3')"
      ]
    },
    {
      "cell_type": "markdown",
      "metadata": {
        "id": "eljBWfuDpsId"
      },
      "source": [
        "## Проверка модели на практике\n",
        "\n",
        "Следующие ячейки нужны для предсказания маски для какой-то конкретной картинки. Это предсказание можно сохранить, сделать по нему симуляцию и сравнить ее с исходной картинкой. "
      ]
    },
    {
      "cell_type": "code",
      "source": [
        "model = torch.load('/content/drive/MyDrive/models/model4512', map_location=torch.device('cpu')).to(device)"
      ],
      "metadata": {
        "id": "JyvtvDbEaNMH"
      },
      "execution_count": 28,
      "outputs": []
    },
    {
      "cell_type": "code",
      "execution_count": 12,
      "metadata": {
        "id": "AvxmnG3uEDxj"
      },
      "outputs": [],
      "source": [
        "def frame_plot(arr, ax):\n",
        "  rectX = np.linspace(0, 1, arr.shape[0])\n",
        "  rectY = np.linspace(0, 1, arr.shape[1])\n",
        "  x, y = np.meshgrid(rectX, rectY)\n",
        "  ax.pcolormesh(x, y, arr)\n",
        "\n",
        "def periodic_image(arr, reps):\n",
        "    pic = np.tile(arr, (reps, reps)).astype(np.uint8)\n",
        "    return Image.fromarray(pic)"
      ]
    },
    {
      "cell_type": "code",
      "execution_count": 33,
      "metadata": {
        "id": "l1lE0JVsCMkh"
      },
      "outputs": [],
      "source": [
        "filename = 'triangle'\n",
        "pic_np = (np.array(Image.open(f'/content/drive/MyDrive/prediction_test/{filename}.png').convert(\"L\")))\n",
        "# pic_np = sim_pattern[500]\n",
        "# pic_np = sim_pattern[800]\n",
        "# pic_np = np.load('/content/drive/MyDrive/dif/sim18.npy')\n",
        "\n",
        "pic =  torch.from_numpy(pic_np.reshape(1, 513, 513)).half().to(device)\n",
        "model.cuda()\n",
        "with torch.amp.autocast(device_type='cuda', dtype=torch.float16):\n",
        "  pic_pred = model(pic)\n",
        "\n",
        "pic_pred_np = np.where(pic_pred.clone().cpu().detach().numpy().reshape(513, 513) > 128, 255, 0)\n",
        "sim_from_pred = compute_atl_4tensor(pic_pred).cpu().detach().numpy().reshape(513, 513)"
      ]
    },
    {
      "cell_type": "code",
      "execution_count": null,
      "metadata": {
        "id": "5XdD3JQNGqHr"
      },
      "outputs": [],
      "source": [
        "fig, ax = plt.subplots(1, 3, figsize=(18, 6))\n",
        "frame_plot(pic_np, ax=ax[0])\n",
        "ax[0].set_title('Ввод для нейросети');\n",
        "frame_plot(pic_pred_np, ax=ax[1])\n",
        "ax[1].set_title('Бинаризованное предсказание');\n",
        "frame_plot(sim_from_pred, ax=ax[2])\n",
        "ax[2].set_title('Симуляция ATL');\n",
        "# frame_plot(np.where(sim_from_pred > 100, 255, 0), ax=ax[3])\n",
        "# ax[3].set_title('Бинаризованная симуляция, порог 100/256');\n",
        "# plt.savefig(f'/content/drive/MyDrive/result_figs/model4123_{filename}.png')"
      ]
    },
    {
      "cell_type": "code",
      "source": [
        "fig, ax = plt.subplots(1, 3, figsize=(12, 4))\n",
        "threshold = [60, 80, 110]\n",
        "for i in range(3):\n",
        "  frame_plot(np.where(sim_from_pred > threshold[i], 255, 0), ax=ax[i])"
      ],
      "metadata": {
        "id": "afX4WQc__7Qc"
      },
      "execution_count": null,
      "outputs": []
    },
    {
      "cell_type": "code",
      "source": [
        "sim = compute_atl(cp.array(pic_np)).get()\n",
        "fig, ax = plt.subplots(1, 3, figsize=(18, 6))\n",
        "frame_plot(pic_np, ax[0])\n",
        "ax[0].set_title('Маска');\n",
        "frame_plot(sim, ax[1])\n",
        "ax[1].set_title('Симуляция');\n",
        "frame_plot(np.where(sim > 25, 255, 0), ax[2])\n",
        "ax[2].set_title('Бинаризованная симуляция, порог 25/256');\n",
        "plt.savefig(f'/content/drive/MyDrive/result_figs/manual_ellipse.png')"
      ],
      "metadata": {
        "id": "A5ydcSIt6sAc"
      },
      "execution_count": null,
      "outputs": []
    },
    {
      "cell_type": "code",
      "source": [
        "fig, ax = plt.subplots(1, 3, figsize=(12, 4))\n",
        "threshold = [15, 20, 25]\n",
        "for i in range(3):\n",
        "  frame_plot(np.where(sim > threshold[i], 255, 0), ax=ax[i])"
      ],
      "metadata": {
        "id": "wTtPIBfZ_K7X"
      },
      "execution_count": null,
      "outputs": []
    },
    {
      "cell_type": "code",
      "execution_count": null,
      "metadata": {
        "id": "OtktlWJOF0iG"
      },
      "outputs": [],
      "source": [
        "circle_im = Image.fromarray(pic_pred_np.astype(np.uint8))\n",
        "circle_im = circle_im.convert('L')\n",
        "circle_im.show()\n",
        "circle_im.save('/content/drive/MyDrive/prediction_test/circle_pred.png')"
      ]
    }
  ],
  "metadata": {
    "accelerator": "GPU",
    "colab": {
      "gpuType": "T4",
      "provenance": []
    },
    "gpuClass": "standard",
    "kernelspec": {
      "display_name": "Python 3",
      "language": "python",
      "name": "python3"
    },
    "language_info": {
      "codemirror_mode": {
        "name": "ipython",
        "version": 3
      },
      "file_extension": ".py",
      "mimetype": "text/x-python",
      "name": "python",
      "nbconvert_exporter": "python",
      "pygments_lexer": "ipython3",
      "version": "3.9.6"
    },
    "orig_nbformat": 4
  },
  "nbformat": 4,
  "nbformat_minor": 0
}