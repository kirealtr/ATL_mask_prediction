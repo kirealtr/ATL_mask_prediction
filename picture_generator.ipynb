{
  "cells": [
    {
      "attachments": {},
      "cell_type": "markdown",
      "metadata": {
        "id": "WjC18kW1VzdS"
      },
      "source": [
        "# Создание картинок маски #"
      ]
    },
    {
      "cell_type": "code",
      "execution_count": 1,
      "metadata": {
        "id": "hlotCDHnVzdV"
      },
      "outputs": [],
      "source": [
        "import numpy as np\n",
        "import pandas as pd\n",
        "import matplotlib.pyplot as plt\n",
        "import seaborn as sns\n",
        "import random\n",
        "\n",
        "import os\n",
        "from PIL import Image, ImageDraw\n"
      ]
    },
    {
      "attachments": {},
      "cell_type": "markdown",
      "metadata": {},
      "source": [
        "Генератор случайных картинок"
      ]
    },
    {
      "cell_type": "code",
      "execution_count": 23,
      "metadata": {
        "id": "NgHeoDurVzdY"
      },
      "outputs": [],
      "source": [
        "def choise(i, draw):\n",
        "    #Пряиоугольник    \n",
        "    if i == 1:\n",
        "        draw.rectangle((random.randint(0, 513), random.randint(0, 513), random.randint(0, 513), random.randint(0, 513)), fill=255, outline=255)\n",
        "\n",
        "    #Линия(не нужна)\n",
        "    elif i == 2:\n",
        "        # draw.line((random.randint(0, 513), random.randint(0, 513), random.randint(0, 513), random.randint(0, 513)), fill=255, width=random.randint(5, 15))\n",
        "        offs = 200\n",
        "        draw.line((offs, offs, 513-offs, 513-offs), fill=255, width=15)\n",
        "        draw.line((513-offs, offs, offs, 513-offs), fill=255, width=15)\n",
        "\n",
        "    #Эллипс\n",
        "    elif i == 3:\n",
        "        x1 = random.randint(0, 200)\n",
        "        y1 = random.randint(0, 200)\n",
        "        x2 = 513 - x1\n",
        "        y2 = 513 - y1\n",
        "        draw.ellipse((x1, y1, x2, y2), fill=255)\n",
        "\n",
        "    #Правильный многоугольник\n",
        "    elif i == 4:\n",
        "        r = random.randint(15, 100)\n",
        "\n",
        "        draw.regular_polygon(\n",
        "            bounding_circle = (random.randint(r, 512 - r), random.randint(r, 512 - r), r),\n",
        "            n_sides=random.randint(3, 8),\n",
        "            rotation=random.randint(0, 90),\n",
        "            fill=255,\n",
        "            outline=None\n",
        "        )\n",
        "\n",
        "    #Рамка в центре\n",
        "    elif i == 5:\n",
        "        # Define the number of sides of the polygon\n",
        "        n = random.randint(3, 8)\n",
        "\n",
        "        # Calculate the radius of the polygon based on the number of sides and the size of the image\n",
        "        radius = random.randint(40, 200)\n",
        "        angle = 2 * np.pi / n\n",
        "\n",
        "        # Calculate the vertices of the polygon\n",
        "        vertices = []\n",
        "        w = random.randint(5, 20)\n",
        "        rot = 0 # random.random() * 1\n",
        "        for i in range(n):\n",
        "            x = 256 + radius * np.cos((i+rot) * angle)\n",
        "            y = 256 + radius * np.sin((i+rot) * angle)\n",
        "            vertices.append((x, y))\n",
        "\n",
        "        # Draw the polygon using lines\n",
        "        for i in range(n):\n",
        "            draw.line([vertices[i], vertices[(i+1)%n]], fill=255, width=w)\n",
        "\n",
        "    #Кольцо\n",
        "    elif i == 6:\n",
        "        x1 = random.randint(0, 200)\n",
        "        y1 = random.randint(0 ,200)\n",
        "        x2 = 513 - x1\n",
        "        y2 = 513 - y1\n",
        "\n",
        "        th = random.randint(5, 50)\n",
        "\n",
        "        draw.arc((x1, y1, x2, y2), 0, 360, 255, width=th)\n",
        "\n",
        "    \n",
        "    #Квадратная рамка\n",
        "    elif i == 7:\n",
        "        # Define the number of sides of the polygon\n",
        "        n = 4\n",
        "\n",
        "        # Calculate the radius of the polygon based on the number of sides and the size of the image\n",
        "        radius = random.randint(40, 200)\n",
        "        angle = 2 * np.pi / n\n",
        "\n",
        "        # Calculate the vertices of the polygon\n",
        "        vertices = []\n",
        "        w = random.randint(5, 20)\n",
        "        rot = random.random() * 1\n",
        "        for i in range(n):\n",
        "            x = 256 + radius * np.cos((i+rot) * angle)\n",
        "            y = 256 + radius * np.sin((i+rot) * angle)\n",
        "            vertices.append((x, y))\n",
        "\n",
        "        # Draw the polygon using lines\n",
        "        for i in range(n):\n",
        "            draw.line([vertices[i], vertices[(i+1)%n]], fill=255, width=w)\n",
        "\n",
        "    \n",
        "    #Многоугольник в круге\n",
        "    elif i == 8:\n",
        "        rad = random.randint(20, 100)\n",
        "        th = random.randint(10, rad - 4)\n",
        "        \n",
        "        x1 = rad - th\n",
        "        y1 = x1\n",
        "        x2 = 513 - x1\n",
        "        y2 = x2\n",
        "\n",
        "        draw.arc((256-rad, 256-rad, 256+rad, 256+rad), 0, 360, 255, width=th)\n",
        "\n",
        "\n",
        "        rot = random.randint(0, 90)\n",
        "        k = random.randint(3, 8)\n",
        "\n",
        "        draw.regular_polygon(\n",
        "            bounding_circle = (256, 256, rad - th),\n",
        "            n_sides = k,\n",
        "            rotation = rot,\n",
        "            fill=255,\n",
        "            outline=None\n",
        "        )\n",
        "\n",
        "    #Круг в кольце\n",
        "    elif i == 9:\n",
        "        rad = random.randint(20, 100)\n",
        "        th = random.randint(10, rad - 4)\n",
        "        \n",
        "        x1 = rad - th\n",
        "        y1 = x1\n",
        "        x2 = 513 - x1\n",
        "        y2 = x2\n",
        "\n",
        "        draw.arc((x1, y1, x2, y2), 0, 360, 255, width=th)\n",
        "        draw.ellipse((x1 + 2 * th, y1 + 2 * th, x2 - 2 * th, y2 - 2 * th), fill=255)\n",
        "\n",
        "\n",
        "    #Кольцо в кольце\n",
        "    elif i == 10:\n",
        "        rad = random.randint(50, 100)\n",
        "        th = random.randint(10, rad // 4 - 1)\n",
        "        \n",
        "        x1 = rad - th\n",
        "        y1 = x1\n",
        "        x2 = 513 - x1\n",
        "        y2 = x2\n",
        "\n",
        "        draw.arc((x1, y1, x2, y2), 0, 360, 255, width=th)\n",
        "        draw.arc((x1+2*th, y1+2*th, x2-2*th, y2-2*th), 0, 360, 255, width=th)\n",
        "\n",
        "    #Олимпиада\n",
        "    elif i == 11:\n",
        "       rad = random.randint(20, 400)\n",
        "       th = random.randint(5, 20)\n",
        "\n",
        "       draw.arc((-rad, -rad, rad, rad), 0, 90, 255, width=th)\n",
        "       draw.arc((513-rad, 513-rad, 513+rad, 513+rad), 180, 270, 255, width=th)\n",
        "       draw.arc((513-rad, -rad, 513+rad, rad), 90, 180, 255, width=th)\n",
        "       draw.arc((-rad, 513-rad, rad, 513+rad), 270, 360, 255, width=th)"
      ]
    },
    {
      "attachments": {},
      "cell_type": "markdown",
      "metadata": {},
      "source": [
        "Генерируем картинки"
      ]
    },
    {
      "cell_type": "code",
      "execution_count": 26,
      "metadata": {},
      "outputs": [],
      "source": [
        "n = 513\n",
        "im = Image.new(\"L\", (n,n), color=0)\n",
        "draw = ImageDraw.Draw(im)\n",
        "choise(5, draw)\n",
        "im.show()\n",
        "# im.save('image/cross.png')"
      ]
    },
    {
      "cell_type": "code",
      "execution_count": null,
      "metadata": {
        "id": "Bw6c8MclVzda"
      },
      "outputs": [],
      "source": [
        "n = 513\n",
        "images = []\n",
        "\n",
        "for i in range(5000):\n",
        "    im = Image.new(\"L\", (n,n), color=0)\n",
        "    draw = ImageDraw.Draw(im)\n",
        "\n",
        "    k = random.randint(1, 10)\n",
        "    for j in range(k):\n",
        "        c = random.randint(1, 10)\n",
        "        choise(c, draw)\n",
        "\n",
        "    images.append(np.array(im))"
      ]
    },
    {
      "cell_type": "code",
      "execution_count": null,
      "metadata": {
        "id": "IKjj9B5NXnM6"
      },
      "outputs": [],
      "source": [
        "#Рамки\n",
        "\n",
        "for i in range(100):\n",
        "    im = Image.new(\"L\", (n,n), color=0)\n",
        "    draw = ImageDraw.Draw(im)\n",
        "\n",
        "    k = random.randint(1, 5)\n",
        "    for j in range(k):\n",
        "        choise(5, draw)\n",
        "\n",
        "    images.append(np.array(im))\n"
      ]
    },
    {
      "cell_type": "code",
      "execution_count": null,
      "metadata": {
        "id": "X8Gfxsm9X97z"
      },
      "outputs": [],
      "source": [
        "#Кольцо в кольце\n",
        "\n",
        "for i in range(100):\n",
        "    im = Image.new(\"L\", (n,n), color=0)\n",
        "    draw = ImageDraw.Draw(im)\n",
        "\n",
        "    k = random.randint(1, 2)\n",
        "    for j in range(k):\n",
        "        choise(10, draw)\n",
        "\n",
        "    images.append(np.array(im))\n"
      ]
    },
    {
      "cell_type": "code",
      "execution_count": null,
      "metadata": {
        "id": "YQt8rDV3YTr0"
      },
      "outputs": [],
      "source": [
        "#Кольца\n",
        "\n",
        "for i in range(100):\n",
        "    im = Image.new(\"L\", (n,n), color=0)\n",
        "    draw = ImageDraw.Draw(im)\n",
        "\n",
        "    k = random.randint(1, 4)\n",
        "    for j in range(k):\n",
        "        choise(6, draw)\n",
        "\n",
        "    images.append(np.array(im))\n"
      ]
    },
    {
      "cell_type": "code",
      "execution_count": null,
      "metadata": {
        "id": "7MDUVnPGYuLI"
      },
      "outputs": [],
      "source": [
        "#Квадратная рамка\n",
        "\n",
        "for i in range(50):\n",
        "    im = Image.new(\"L\", (n,n), color=0)\n",
        "    draw = ImageDraw.Draw(im)\n",
        "\n",
        "    k = 1\n",
        "    for j in range(k):\n",
        "        choise(7, draw)\n",
        "\n",
        "    images.append(np.array(im))\n"
      ]
    },
    {
      "cell_type": "code",
      "execution_count": null,
      "metadata": {
        "id": "wHos5cYKZHaM"
      },
      "outputs": [],
      "source": [
        "#Олимпиада\n",
        "\n",
        "for i in range(100):\n",
        "    im = Image.new(\"L\", (n,n), color=0)\n",
        "    draw = ImageDraw.Draw(im)\n",
        "\n",
        "    k = random.randint(1, 2)\n",
        "    for j in range(k):\n",
        "        choise(11, draw)\n",
        "\n",
        "    images.append(np.array(im))"
      ]
    },
    {
      "cell_type": "code",
      "execution_count": null,
      "metadata": {
        "id": "q85vtlt9cVfL"
      },
      "outputs": [],
      "source": [
        "#Чуть рандома\n",
        "\n",
        "for i in range(105):\n",
        "    im = Image.new(\"L\", (n,n), color=0)\n",
        "    draw = ImageDraw.Draw(im)\n",
        "\n",
        "    k = random.randint(1, 3)\n",
        "    for j in range(k):\n",
        "        c = random.randint(1, 11)\n",
        "        choise(c, draw)\n",
        "\n",
        "    images.append(np.array(im))"
      ]
    },
    {
      "cell_type": "code",
      "execution_count": null,
      "metadata": {
        "colab": {
          "base_uri": "https://localhost:8080/"
        },
        "id": "uPLlBoxfcM8V",
        "outputId": "421bf193-8022-4121-e738-b37c7665d13c"
      },
      "outputs": [
        {
          "data": {
            "text/plain": [
              "5555"
            ]
          },
          "execution_count": 18,
          "metadata": {},
          "output_type": "execute_result"
        }
      ],
      "source": [
        "len(images)"
      ]
    },
    {
      "cell_type": "code",
      "execution_count": null,
      "metadata": {
        "id": "2d5EpmQfdLUK"
      },
      "outputs": [],
      "source": [
        "np.save(\"/content/drive/MyDrive/dataset.npy\", images)"
      ]
    },
    {
      "attachments": {},
      "cell_type": "markdown",
      "metadata": {},
      "source": [
        "Для показа картинок"
      ]
    },
    {
      "cell_type": "code",
      "execution_count": null,
      "metadata": {
        "id": "26-IdEKRVzdb"
      },
      "outputs": [],
      "source": [
        "def frame_plot(arr, ax):\n",
        "    rectX = np.linspace(0, 1, arr.shape[0])\n",
        "    rectY = np.linspace(0, 1, arr.shape[1])\n",
        "    x, y = np.meshgrid(rectX, rectY)\n",
        "    ax.pcolormesh(x, y, arr)\n",
        "\n",
        "def check_dataset(im_num):\n",
        "  sims = np.load('/content/drive/MyDrive/simulations.npy')\n",
        "  masks = np.load('/content/drive/MyDrive/dataset.npy')\n",
        "  fig, ax = plt.subplots(2, im_num, figsize=(im_num * 4, 8))\n",
        "  fig.tight_layout()\n",
        "  index = np.random.randint(0, sims.shape[0], size=im_num)\n",
        "  for i in range(im_num):\n",
        "    frame_plot(sims[index[i]], ax[1, i])\n",
        "    frame_plot(masks[index[i]], ax[0, i])\n",
        "  fig.show()\n",
        "\n",
        "\n",
        "images = np.load('dataset.npy', allow_pickle=True)\n",
        "fig, ax = plt.subplots(1, images.shape[0], figsize=(16, 8))\n",
        "for i in range(images.shape[0]):\n",
        "    frame_plot(images[i], ax=ax[i])"
      ]
    }
  ],
  "metadata": {
    "colab": {
      "provenance": []
    },
    "kernelspec": {
      "display_name": "Python 3",
      "language": "python",
      "name": "python3"
    },
    "language_info": {
      "codemirror_mode": {
        "name": "ipython",
        "version": 3
      },
      "file_extension": ".py",
      "mimetype": "text/x-python",
      "name": "python",
      "nbconvert_exporter": "python",
      "pygments_lexer": "ipython3",
      "version": "3.9.6"
    },
    "orig_nbformat": 4
  },
  "nbformat": 4,
  "nbformat_minor": 0
}
